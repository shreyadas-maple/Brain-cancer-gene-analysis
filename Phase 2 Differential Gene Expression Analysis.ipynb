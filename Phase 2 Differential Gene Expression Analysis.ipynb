{
 "cells": [
  {
   "cell_type": "markdown",
   "metadata": {},
   "source": [
    "# Phase 2: Differential Gene Expression Analysis\n",
    "**Shreya Das**\n",
    "\n",
    "In this phase we are going to show which genes are upregulated and downregulated in the different canacer groups. In our previous phase, we only figured out **which** genes are differentially expressed. In this phase we are more interested in **how** these genes are differentially expressed."
   ]
  },
  {
   "cell_type": "markdown",
   "metadata": {},
   "source": [
    "## Read-in the EDA Statistics .csv files\n",
    "\n",
    "We are going to read-in the csv files from the previous phase into this notebook to use."
   ]
  },
  {
   "cell_type": "code",
   "execution_count": 169,
   "metadata": {},
   "outputs": [],
   "source": [
    "import pandas as pd\n",
    "df_stats_ependymoma = pd.read_csv(\"EDA_stats_ependymoma\")\n",
    "df_stats_glioblastoma = pd.read_csv(\"EDA_stats_glioblastoma\")\n",
    "df_stats_medulloblastoma = pd.read_csv(\"EDA_stats_medulloblastoma\")\n",
    "df_stats_pilocytic_astrocytoma = pd.read_csv(\"EDA_stats_pilocytic_astrocytoma\")"
   ]
  },
  {
   "cell_type": "code",
   "execution_count": 170,
   "metadata": {},
   "outputs": [
    {
     "data": {
      "application/vnd.microsoft.datawrangler.viewer.v0+json": {
       "columns": [
        {
         "name": "index",
         "rawType": "int64",
         "type": "integer"
        },
        {
         "name": "Unnamed: 0",
         "rawType": "int64",
         "type": "integer"
        },
        {
         "name": "Gene",
         "rawType": "object",
         "type": "string"
        },
        {
         "name": "Statistics",
         "rawType": "float64",
         "type": "float"
        },
        {
         "name": "p",
         "rawType": "float64",
         "type": "float"
        },
        {
         "name": "alpha",
         "rawType": "float64",
         "type": "float"
        },
        {
         "name": "Interpretation",
         "rawType": "object",
         "type": "string"
        }
       ],
       "ref": "b568189f-40da-4569-9d70-543aaf2c6607",
       "rows": [
        [
         "0",
         "0",
         "1007_s_at",
         "8.5498619757218",
         "4.551426927535037e-07",
         "0.05",
         "This gene is not differentially expressed. (Accept H0)"
        ],
        [
         "1",
         "1",
         "1053_at",
         "3.0101685839767365",
         "0.0075397617042584",
         "0.05",
         "This gene is not differentially expressed. (Accept H0)"
        ],
        [
         "2",
         "2",
         "117_at",
         "2.9463389344326587",
         "0.0070944816352951",
         "0.05",
         "This gene is not differentially expressed. (Accept H0)"
        ],
        [
         "3",
         "3",
         "121_at",
         "0.8714609204541289",
         "0.3902648998213841",
         "0.05",
         "This gene is differentially expressed. (Fail to reject H0)"
        ],
        [
         "4",
         "4",
         "1255_g_at",
         "-5.365297559815724",
         "9.955036301382503e-05",
         "0.05",
         "This gene is not differentially expressed. (Accept H0)"
        ],
        [
         "5",
         "5",
         "1294_at",
         "5.547674780573098",
         "3.8926202302978775e-06",
         "0.05",
         "This gene is not differentially expressed. (Accept H0)"
        ],
        [
         "6",
         "6",
         "1316_at",
         "-3.863968699121476",
         "0.0010017905296532",
         "0.05",
         "This gene is not differentially expressed. (Accept H0)"
        ],
        [
         "7",
         "7",
         "1320_at",
         "5.695197809486452",
         "1.6586887245905182e-06",
         "0.05",
         "This gene is not differentially expressed. (Accept H0)"
        ],
        [
         "8",
         "8",
         "1405_i_at",
         "2.0812197666432524",
         "0.0494719829676493",
         "0.05",
         "This gene is not differentially expressed. (Accept H0)"
        ],
        [
         "9",
         "9",
         "1431_at",
         "-4.3345257889367454",
         "0.0007204356879996",
         "0.05",
         "This gene is not differentially expressed. (Accept H0)"
        ],
        [
         "10",
         "10",
         "1438_at",
         "-0.773455861311552",
         "0.4479389050192253",
         "0.05",
         "This gene is differentially expressed. (Fail to reject H0)"
        ],
        [
         "11",
         "11",
         "1487_at",
         "-7.803140415745286",
         "9.382348552436515e-09",
         "0.05",
         "This gene is not differentially expressed. (Accept H0)"
        ],
        [
         "12",
         "12",
         "1494_f_at",
         "-1.9618190036574368",
         "0.0630713887549109",
         "0.05",
         "This gene is differentially expressed. (Fail to reject H0)"
        ],
        [
         "13",
         "13",
         "1552256_a_at",
         "-2.351175733229861",
         "0.0252780863338294",
         "0.05",
         "This gene is not differentially expressed. (Accept H0)"
        ],
        [
         "14",
         "14",
         "1552257_a_at",
         "-4.155103516283121",
         "0.0001921747685538",
         "0.05",
         "This gene is not differentially expressed. (Accept H0)"
        ],
        [
         "15",
         "15",
         "1552258_at",
         "0.6860808852756444",
         "0.4958445985741874",
         "0.05",
         "This gene is differentially expressed. (Fail to reject H0)"
        ],
        [
         "16",
         "16",
         "1552261_at",
         "-0.2765357811324795",
         "0.7845956947216538",
         "0.05",
         "This gene is differentially expressed. (Fail to reject H0)"
        ],
        [
         "17",
         "17",
         "1552263_at",
         "1.1493631204992898",
         "0.2609812428575211",
         "0.05",
         "This gene is differentially expressed. (Fail to reject H0)"
        ],
        [
         "18",
         "18",
         "1552264_a_at",
         "1.0348622311341775",
         "0.3166081220453254",
         "0.05",
         "This gene is differentially expressed. (Fail to reject H0)"
        ],
        [
         "19",
         "19",
         "1552266_at",
         "4.998108437550869",
         "8.392158957375537e-06",
         "0.05",
         "This gene is not differentially expressed. (Accept H0)"
        ],
        [
         "20",
         "20",
         "1552269_at",
         "17.418548539534413",
         "1.74220402734661e-24",
         "0.05",
         "This gene is not differentially expressed. (Accept H0)"
        ],
        [
         "21",
         "21",
         "1552271_at",
         "0.9912986559017872",
         "0.3304545631703818",
         "0.05",
         "This gene is differentially expressed. (Fail to reject H0)"
        ],
        [
         "22",
         "22",
         "1552272_a_at",
         "1.93445820311835",
         "0.0650271726726752",
         "0.05",
         "This gene is differentially expressed. (Fail to reject H0)"
        ],
        [
         "23",
         "23",
         "1552274_at",
         "-3.0536216044953424",
         "0.0080956236758788",
         "0.05",
         "This gene is not differentially expressed. (Accept H0)"
        ],
        [
         "24",
         "24",
         "1552275_s_at",
         "-4.152988427756695",
         "0.0007180326112486",
         "0.05",
         "This gene is not differentially expressed. (Accept H0)"
        ],
        [
         "25",
         "25",
         "1552276_a_at",
         "-0.3072307820078748",
         "0.7612439973146633",
         "0.05",
         "This gene is differentially expressed. (Fail to reject H0)"
        ],
        [
         "26",
         "26",
         "1552277_a_at",
         "3.066214919842832",
         "0.0034500107431398",
         "0.05",
         "This gene is not differentially expressed. (Accept H0)"
        ],
        [
         "27",
         "27",
         "1552278_a_at",
         "1.6530579615381118",
         "0.1052524211703081",
         "0.05",
         "This gene is differentially expressed. (Fail to reject H0)"
        ],
        [
         "28",
         "28",
         "1552279_a_at",
         "3.5439727102209955",
         "0.0011456911779959",
         "0.05",
         "This gene is not differentially expressed. (Accept H0)"
        ],
        [
         "29",
         "29",
         "1552280_at",
         "1.3515173274070251",
         "0.1919658861659533",
         "0.05",
         "This gene is differentially expressed. (Fail to reject H0)"
        ],
        [
         "30",
         "30",
         "1552281_at",
         "1.0848846510683383",
         "0.2851862954812008",
         "0.05",
         "This gene is differentially expressed. (Fail to reject H0)"
        ],
        [
         "31",
         "31",
         "1552283_s_at",
         "-1.5520947985931024",
         "0.1330902441381156",
         "0.05",
         "This gene is differentially expressed. (Fail to reject H0)"
        ],
        [
         "32",
         "32",
         "1552286_at",
         "1.2733994382952816",
         "0.2188679381946005",
         "0.05",
         "This gene is differentially expressed. (Fail to reject H0)"
        ],
        [
         "33",
         "33",
         "1552287_s_at",
         "1.3669722122764365",
         "0.1883358542052116",
         "0.05",
         "This gene is differentially expressed. (Fail to reject H0)"
        ],
        [
         "34",
         "34",
         "1552288_at",
         "-0.1129917623720171",
         "0.9110095624144712",
         "0.05",
         "This gene is differentially expressed. (Fail to reject H0)"
        ],
        [
         "35",
         "35",
         "1552289_a_at",
         "1.1665877153924369",
         "0.2542638371547266",
         "0.05",
         "This gene is differentially expressed. (Fail to reject H0)"
        ],
        [
         "36",
         "36",
         "1552291_at",
         "0.771981724737433",
         "0.4505660495284586",
         "0.05",
         "This gene is differentially expressed. (Fail to reject H0)"
        ],
        [
         "37",
         "37",
         "1552293_at",
         "-4.3513097883646585",
         "0.0005138937102046",
         "0.05",
         "This gene is not differentially expressed. (Accept H0)"
        ],
        [
         "38",
         "38",
         "1552295_a_at",
         "2.2705977637336514",
         "0.0364203885010511",
         "0.05",
         "This gene is not differentially expressed. (Accept H0)"
        ],
        [
         "39",
         "39",
         "1552296_at",
         "8.000225629684905",
         "4.5182947554327535e-09",
         "0.05",
         "This gene is not differentially expressed. (Accept H0)"
        ],
        [
         "40",
         "40",
         "1552299_at",
         "4.0802011770762165",
         "0.0002743269451661",
         "0.05",
         "This gene is not differentially expressed. (Accept H0)"
        ],
        [
         "41",
         "41",
         "1552301_a_at",
         "-6.99074111104857",
         "1.7350932614813956e-07",
         "0.05",
         "This gene is not differentially expressed. (Accept H0)"
        ],
        [
         "42",
         "42",
         "1552302_at",
         "5.1189827039999605",
         "1.265295371360677e-05",
         "0.05",
         "This gene is not differentially expressed. (Accept H0)"
        ],
        [
         "43",
         "43",
         "1552303_a_at",
         "1.4548990543042128",
         "0.1635675091620483",
         "0.05",
         "This gene is differentially expressed. (Fail to reject H0)"
        ],
        [
         "44",
         "44",
         "1552304_at",
         "5.168012866730664",
         "1.7718015445264437e-05",
         "0.05",
         "This gene is not differentially expressed. (Accept H0)"
        ],
        [
         "45",
         "45",
         "1552306_at",
         "8.873768046381452",
         "2.586108578085091e-12",
         "0.05",
         "This gene is not differentially expressed. (Accept H0)"
        ],
        [
         "46",
         "46",
         "1552307_a_at",
         "1.7186838093084982",
         "0.0998632637997749",
         "0.05",
         "This gene is differentially expressed. (Fail to reject H0)"
        ],
        [
         "47",
         "47",
         "1552309_a_at",
         "1.841603046710233",
         "0.0797629271106544",
         "0.05",
         "This gene is differentially expressed. (Fail to reject H0)"
        ],
        [
         "48",
         "48",
         "1552310_at",
         "1.9174770353564063",
         "0.069842809285889",
         "0.05",
         "This gene is differentially expressed. (Fail to reject H0)"
        ],
        [
         "49",
         "49",
         "1552311_a_at",
         "-2.212366298678094",
         "0.0439301987992147",
         "0.05",
         "This gene is not differentially expressed. (Accept H0)"
        ]
       ],
       "shape": {
        "columns": 6,
        "rows": 54675
       }
      },
      "text/html": [
       "<div>\n",
       "<style scoped>\n",
       "    .dataframe tbody tr th:only-of-type {\n",
       "        vertical-align: middle;\n",
       "    }\n",
       "\n",
       "    .dataframe tbody tr th {\n",
       "        vertical-align: top;\n",
       "    }\n",
       "\n",
       "    .dataframe thead th {\n",
       "        text-align: right;\n",
       "    }\n",
       "</style>\n",
       "<table border=\"1\" class=\"dataframe\">\n",
       "  <thead>\n",
       "    <tr style=\"text-align: right;\">\n",
       "      <th></th>\n",
       "      <th>Unnamed: 0</th>\n",
       "      <th>Gene</th>\n",
       "      <th>Statistics</th>\n",
       "      <th>p</th>\n",
       "      <th>alpha</th>\n",
       "      <th>Interpretation</th>\n",
       "    </tr>\n",
       "  </thead>\n",
       "  <tbody>\n",
       "    <tr>\n",
       "      <th>0</th>\n",
       "      <td>0</td>\n",
       "      <td>1007_s_at</td>\n",
       "      <td>8.549862</td>\n",
       "      <td>4.551427e-07</td>\n",
       "      <td>0.05</td>\n",
       "      <td>This gene is not differentially expressed. (Ac...</td>\n",
       "    </tr>\n",
       "    <tr>\n",
       "      <th>1</th>\n",
       "      <td>1</td>\n",
       "      <td>1053_at</td>\n",
       "      <td>3.010169</td>\n",
       "      <td>7.539762e-03</td>\n",
       "      <td>0.05</td>\n",
       "      <td>This gene is not differentially expressed. (Ac...</td>\n",
       "    </tr>\n",
       "    <tr>\n",
       "      <th>2</th>\n",
       "      <td>2</td>\n",
       "      <td>117_at</td>\n",
       "      <td>2.946339</td>\n",
       "      <td>7.094482e-03</td>\n",
       "      <td>0.05</td>\n",
       "      <td>This gene is not differentially expressed. (Ac...</td>\n",
       "    </tr>\n",
       "    <tr>\n",
       "      <th>3</th>\n",
       "      <td>3</td>\n",
       "      <td>121_at</td>\n",
       "      <td>0.871461</td>\n",
       "      <td>3.902649e-01</td>\n",
       "      <td>0.05</td>\n",
       "      <td>This gene is differentially expressed. (Fail t...</td>\n",
       "    </tr>\n",
       "    <tr>\n",
       "      <th>4</th>\n",
       "      <td>4</td>\n",
       "      <td>1255_g_at</td>\n",
       "      <td>-5.365298</td>\n",
       "      <td>9.955036e-05</td>\n",
       "      <td>0.05</td>\n",
       "      <td>This gene is not differentially expressed. (Ac...</td>\n",
       "    </tr>\n",
       "    <tr>\n",
       "      <th>...</th>\n",
       "      <td>...</td>\n",
       "      <td>...</td>\n",
       "      <td>...</td>\n",
       "      <td>...</td>\n",
       "      <td>...</td>\n",
       "      <td>...</td>\n",
       "    </tr>\n",
       "    <tr>\n",
       "      <th>54670</th>\n",
       "      <td>54670</td>\n",
       "      <td>AFFX-ThrX-5_at</td>\n",
       "      <td>-0.220623</td>\n",
       "      <td>8.286369e-01</td>\n",
       "      <td>0.05</td>\n",
       "      <td>This gene is differentially expressed. (Fail t...</td>\n",
       "    </tr>\n",
       "    <tr>\n",
       "      <th>54671</th>\n",
       "      <td>54671</td>\n",
       "      <td>AFFX-ThrX-M_at</td>\n",
       "      <td>-1.418027</td>\n",
       "      <td>1.776941e-01</td>\n",
       "      <td>0.05</td>\n",
       "      <td>This gene is differentially expressed. (Fail t...</td>\n",
       "    </tr>\n",
       "    <tr>\n",
       "      <th>54672</th>\n",
       "      <td>54672</td>\n",
       "      <td>AFFX-TrpnX-3_at</td>\n",
       "      <td>-0.594535</td>\n",
       "      <td>5.619077e-01</td>\n",
       "      <td>0.05</td>\n",
       "      <td>This gene is differentially expressed. (Fail t...</td>\n",
       "    </tr>\n",
       "    <tr>\n",
       "      <th>54673</th>\n",
       "      <td>54673</td>\n",
       "      <td>AFFX-TrpnX-5_at</td>\n",
       "      <td>0.620717</td>\n",
       "      <td>5.421586e-01</td>\n",
       "      <td>0.05</td>\n",
       "      <td>This gene is differentially expressed. (Fail t...</td>\n",
       "    </tr>\n",
       "    <tr>\n",
       "      <th>54674</th>\n",
       "      <td>54674</td>\n",
       "      <td>AFFX-TrpnX-M_at</td>\n",
       "      <td>-2.071115</td>\n",
       "      <td>5.754684e-02</td>\n",
       "      <td>0.05</td>\n",
       "      <td>This gene is differentially expressed. (Fail t...</td>\n",
       "    </tr>\n",
       "  </tbody>\n",
       "</table>\n",
       "<p>54675 rows × 6 columns</p>\n",
       "</div>"
      ],
      "text/plain": [
       "       Unnamed: 0             Gene  Statistics             p  alpha  \\\n",
       "0               0        1007_s_at    8.549862  4.551427e-07   0.05   \n",
       "1               1          1053_at    3.010169  7.539762e-03   0.05   \n",
       "2               2           117_at    2.946339  7.094482e-03   0.05   \n",
       "3               3           121_at    0.871461  3.902649e-01   0.05   \n",
       "4               4        1255_g_at   -5.365298  9.955036e-05   0.05   \n",
       "...           ...              ...         ...           ...    ...   \n",
       "54670       54670   AFFX-ThrX-5_at   -0.220623  8.286369e-01   0.05   \n",
       "54671       54671   AFFX-ThrX-M_at   -1.418027  1.776941e-01   0.05   \n",
       "54672       54672  AFFX-TrpnX-3_at   -0.594535  5.619077e-01   0.05   \n",
       "54673       54673  AFFX-TrpnX-5_at    0.620717  5.421586e-01   0.05   \n",
       "54674       54674  AFFX-TrpnX-M_at   -2.071115  5.754684e-02   0.05   \n",
       "\n",
       "                                          Interpretation  \n",
       "0      This gene is not differentially expressed. (Ac...  \n",
       "1      This gene is not differentially expressed. (Ac...  \n",
       "2      This gene is not differentially expressed. (Ac...  \n",
       "3      This gene is differentially expressed. (Fail t...  \n",
       "4      This gene is not differentially expressed. (Ac...  \n",
       "...                                                  ...  \n",
       "54670  This gene is differentially expressed. (Fail t...  \n",
       "54671  This gene is differentially expressed. (Fail t...  \n",
       "54672  This gene is differentially expressed. (Fail t...  \n",
       "54673  This gene is differentially expressed. (Fail t...  \n",
       "54674  This gene is differentially expressed. (Fail t...  \n",
       "\n",
       "[54675 rows x 6 columns]"
      ]
     },
     "execution_count": 170,
     "metadata": {},
     "output_type": "execute_result"
    }
   ],
   "source": [
    "df_stats_ependymoma"
   ]
  },
  {
   "cell_type": "markdown",
   "metadata": {},
   "source": [
    "From here we are going to create a new Dataframe that only contains the genes that have statistically significant difference. Remember that this was indicated with the interpretation that we coded in the Welch's t-test in the previous phase."
   ]
  },
  {
   "cell_type": "code",
   "execution_count": 171,
   "metadata": {},
   "outputs": [],
   "source": [
    "# We define a function which takes a dataframe and then returns a dataframe which only have the rows with the interpretation\n",
    "# of 'This gene is differentially expressed. (Fail to reject H0)'\n",
    "def extract_stat_sig (daf):\n",
    "    return pd.DataFrame(daf.loc[daf['Interpretation'] == 'This gene is differentially expressed. (Fail to reject H0)'])\n"
   ]
  },
  {
   "cell_type": "code",
   "execution_count": 172,
   "metadata": {},
   "outputs": [
    {
     "data": {
      "application/vnd.microsoft.datawrangler.viewer.v0+json": {
       "columns": [
        {
         "name": "index",
         "rawType": "int64",
         "type": "integer"
        },
        {
         "name": "Unnamed: 0",
         "rawType": "int64",
         "type": "integer"
        },
        {
         "name": "Gene",
         "rawType": "object",
         "type": "string"
        },
        {
         "name": "Statistics",
         "rawType": "float64",
         "type": "float"
        },
        {
         "name": "p",
         "rawType": "float64",
         "type": "float"
        },
        {
         "name": "alpha",
         "rawType": "float64",
         "type": "float"
        },
        {
         "name": "Interpretation",
         "rawType": "object",
         "type": "string"
        }
       ],
       "ref": "9d2708b2-3281-455a-ba52-a68c8f078630",
       "rows": [
        [
         "3",
         "3",
         "121_at",
         "0.8714609204541289",
         "0.3902648998213841",
         "0.05",
         "This gene is differentially expressed. (Fail to reject H0)"
        ],
        [
         "10",
         "10",
         "1438_at",
         "-0.773455861311552",
         "0.4479389050192253",
         "0.05",
         "This gene is differentially expressed. (Fail to reject H0)"
        ],
        [
         "12",
         "12",
         "1494_f_at",
         "-1.9618190036574368",
         "0.0630713887549109",
         "0.05",
         "This gene is differentially expressed. (Fail to reject H0)"
        ],
        [
         "15",
         "15",
         "1552258_at",
         "0.6860808852756444",
         "0.4958445985741874",
         "0.05",
         "This gene is differentially expressed. (Fail to reject H0)"
        ],
        [
         "16",
         "16",
         "1552261_at",
         "-0.2765357811324795",
         "0.7845956947216538",
         "0.05",
         "This gene is differentially expressed. (Fail to reject H0)"
        ],
        [
         "17",
         "17",
         "1552263_at",
         "1.1493631204992898",
         "0.2609812428575211",
         "0.05",
         "This gene is differentially expressed. (Fail to reject H0)"
        ],
        [
         "18",
         "18",
         "1552264_a_at",
         "1.0348622311341775",
         "0.3166081220453254",
         "0.05",
         "This gene is differentially expressed. (Fail to reject H0)"
        ],
        [
         "21",
         "21",
         "1552271_at",
         "0.9912986559017872",
         "0.3304545631703818",
         "0.05",
         "This gene is differentially expressed. (Fail to reject H0)"
        ],
        [
         "22",
         "22",
         "1552272_a_at",
         "1.93445820311835",
         "0.0650271726726752",
         "0.05",
         "This gene is differentially expressed. (Fail to reject H0)"
        ],
        [
         "25",
         "25",
         "1552276_a_at",
         "-0.3072307820078748",
         "0.7612439973146633",
         "0.05",
         "This gene is differentially expressed. (Fail to reject H0)"
        ],
        [
         "27",
         "27",
         "1552278_a_at",
         "1.6530579615381118",
         "0.1052524211703081",
         "0.05",
         "This gene is differentially expressed. (Fail to reject H0)"
        ],
        [
         "29",
         "29",
         "1552280_at",
         "1.3515173274070251",
         "0.1919658861659533",
         "0.05",
         "This gene is differentially expressed. (Fail to reject H0)"
        ],
        [
         "30",
         "30",
         "1552281_at",
         "1.0848846510683383",
         "0.2851862954812008",
         "0.05",
         "This gene is differentially expressed. (Fail to reject H0)"
        ],
        [
         "31",
         "31",
         "1552283_s_at",
         "-1.5520947985931024",
         "0.1330902441381156",
         "0.05",
         "This gene is differentially expressed. (Fail to reject H0)"
        ],
        [
         "32",
         "32",
         "1552286_at",
         "1.2733994382952816",
         "0.2188679381946005",
         "0.05",
         "This gene is differentially expressed. (Fail to reject H0)"
        ],
        [
         "33",
         "33",
         "1552287_s_at",
         "1.3669722122764365",
         "0.1883358542052116",
         "0.05",
         "This gene is differentially expressed. (Fail to reject H0)"
        ],
        [
         "34",
         "34",
         "1552288_at",
         "-0.1129917623720171",
         "0.9110095624144712",
         "0.05",
         "This gene is differentially expressed. (Fail to reject H0)"
        ],
        [
         "35",
         "35",
         "1552289_a_at",
         "1.1665877153924369",
         "0.2542638371547266",
         "0.05",
         "This gene is differentially expressed. (Fail to reject H0)"
        ],
        [
         "36",
         "36",
         "1552291_at",
         "0.771981724737433",
         "0.4505660495284586",
         "0.05",
         "This gene is differentially expressed. (Fail to reject H0)"
        ],
        [
         "43",
         "43",
         "1552303_a_at",
         "1.4548990543042128",
         "0.1635675091620483",
         "0.05",
         "This gene is differentially expressed. (Fail to reject H0)"
        ],
        [
         "46",
         "46",
         "1552307_a_at",
         "1.7186838093084982",
         "0.0998632637997749",
         "0.05",
         "This gene is differentially expressed. (Fail to reject H0)"
        ],
        [
         "47",
         "47",
         "1552309_a_at",
         "1.841603046710233",
         "0.0797629271106544",
         "0.05",
         "This gene is differentially expressed. (Fail to reject H0)"
        ],
        [
         "48",
         "48",
         "1552310_at",
         "1.9174770353564063",
         "0.069842809285889",
         "0.05",
         "This gene is differentially expressed. (Fail to reject H0)"
        ],
        [
         "51",
         "51",
         "1552314_a_at",
         "1.4311125410289172",
         "0.1707159497270853",
         "0.05",
         "This gene is differentially expressed. (Fail to reject H0)"
        ],
        [
         "52",
         "52",
         "1552315_at",
         "1.3299461953490015",
         "0.1980435950526538",
         "0.05",
         "This gene is differentially expressed. (Fail to reject H0)"
        ],
        [
         "53",
         "53",
         "1552316_a_at",
         "-0.727768730626171",
         "0.4742337142731451",
         "0.05",
         "This gene is differentially expressed. (Fail to reject H0)"
        ],
        [
         "55",
         "55",
         "1552319_a_at",
         "-0.9886824200315424",
         "0.3336018360996904",
         "0.05",
         "This gene is differentially expressed. (Fail to reject H0)"
        ],
        [
         "62",
         "62",
         "1552327_at",
         "-0.520767962808127",
         "0.605637597104485",
         "0.05",
         "This gene is differentially expressed. (Fail to reject H0)"
        ],
        [
         "63",
         "63",
         "1552329_at",
         "0.5126288455490848",
         "0.614071560696271",
         "0.05",
         "This gene is differentially expressed. (Fail to reject H0)"
        ],
        [
         "64",
         "64",
         "1552330_at",
         "1.8497612949160105",
         "0.0750868001406798",
         "0.05",
         "This gene is differentially expressed. (Fail to reject H0)"
        ],
        [
         "65",
         "65",
         "1552332_at",
         "1.648379966051173",
         "0.1194280571014828",
         "0.05",
         "This gene is differentially expressed. (Fail to reject H0)"
        ],
        [
         "67",
         "67",
         "1552335_at",
         "2.0506386366366853",
         "0.0540564006640503",
         "0.05",
         "This gene is differentially expressed. (Fail to reject H0)"
        ],
        [
         "69",
         "69",
         "1552338_at",
         "0.3030102021276613",
         "0.7636311119646165",
         "0.05",
         "This gene is differentially expressed. (Fail to reject H0)"
        ],
        [
         "72",
         "72",
         "1552344_s_at",
         "-0.0170170991664297",
         "0.9866547098652992",
         "0.05",
         "This gene is differentially expressed. (Fail to reject H0)"
        ],
        [
         "74",
         "74",
         "1552348_at",
         "0.7672825456626132",
         "0.4510659171239389",
         "0.05",
         "This gene is differentially expressed. (Fail to reject H0)"
        ],
        [
         "75",
         "75",
         "1552349_a_at",
         "1.139281352521461",
         "0.2629918313328622",
         "0.05",
         "This gene is differentially expressed. (Fail to reject H0)"
        ],
        [
         "76",
         "76",
         "1552354_at",
         "-0.7309132292691479",
         "0.4748504417809536",
         "0.05",
         "This gene is differentially expressed. (Fail to reject H0)"
        ],
        [
         "78",
         "78",
         "1552359_at",
         "1.1910942162310314",
         "0.240413269167823",
         "0.05",
         "This gene is differentially expressed. (Fail to reject H0)"
        ],
        [
         "80",
         "80",
         "1552362_a_at",
         "-0.1994509423928266",
         "0.8446904698618038",
         "0.05",
         "This gene is differentially expressed. (Fail to reject H0)"
        ],
        [
         "84",
         "84",
         "1552368_at",
         "1.5189015974272897",
         "0.1351793085651157",
         "0.05",
         "This gene is differentially expressed. (Fail to reject H0)"
        ],
        [
         "86",
         "86",
         "1552372_at",
         "-0.3556400920207989",
         "0.7273403035657451",
         "0.05",
         "This gene is differentially expressed. (Fail to reject H0)"
        ],
        [
         "87",
         "87",
         "1552373_s_at",
         "1.331197053740778",
         "0.1916951717441495",
         "0.05",
         "This gene is differentially expressed. (Fail to reject H0)"
        ],
        [
         "88",
         "88",
         "1552375_at",
         "1.1403708330446156",
         "0.2699662619853325",
         "0.05",
         "This gene is differentially expressed. (Fail to reject H0)"
        ],
        [
         "89",
         "89",
         "1552377_s_at",
         "1.39879643595495",
         "0.1795896927408846",
         "0.05",
         "This gene is differentially expressed. (Fail to reject H0)"
        ],
        [
         "91",
         "91",
         "1552379_at",
         "-1.466678675616485",
         "0.1634951427944644",
         "0.05",
         "This gene is differentially expressed. (Fail to reject H0)"
        ],
        [
         "92",
         "92",
         "1552381_at",
         "-0.4491935308860243",
         "0.6571399297298003",
         "0.05",
         "This gene is differentially expressed. (Fail to reject H0)"
        ],
        [
         "94",
         "94",
         "1552384_a_at",
         "-1.5782635834466567",
         "0.1360958077036904",
         "0.05",
         "This gene is differentially expressed. (Fail to reject H0)"
        ],
        [
         "99",
         "99",
         "1552391_at",
         "-2.112265385762746",
         "0.0508925501768858",
         "0.05",
         "This gene is differentially expressed. (Fail to reject H0)"
        ],
        [
         "100",
         "100",
         "1552393_at",
         "-1.7583075211894836",
         "0.0899214561648579",
         "0.05",
         "This gene is differentially expressed. (Fail to reject H0)"
        ],
        [
         "102",
         "102",
         "1552395_at",
         "0.6790075464039287",
         "0.5047258569203315",
         "0.05",
         "This gene is differentially expressed. (Fail to reject H0)"
        ]
       ],
       "shape": {
        "columns": 6,
        "rows": 27636
       }
      },
      "text/html": [
       "<div>\n",
       "<style scoped>\n",
       "    .dataframe tbody tr th:only-of-type {\n",
       "        vertical-align: middle;\n",
       "    }\n",
       "\n",
       "    .dataframe tbody tr th {\n",
       "        vertical-align: top;\n",
       "    }\n",
       "\n",
       "    .dataframe thead th {\n",
       "        text-align: right;\n",
       "    }\n",
       "</style>\n",
       "<table border=\"1\" class=\"dataframe\">\n",
       "  <thead>\n",
       "    <tr style=\"text-align: right;\">\n",
       "      <th></th>\n",
       "      <th>Unnamed: 0</th>\n",
       "      <th>Gene</th>\n",
       "      <th>Statistics</th>\n",
       "      <th>p</th>\n",
       "      <th>alpha</th>\n",
       "      <th>Interpretation</th>\n",
       "    </tr>\n",
       "  </thead>\n",
       "  <tbody>\n",
       "    <tr>\n",
       "      <th>3</th>\n",
       "      <td>3</td>\n",
       "      <td>121_at</td>\n",
       "      <td>0.871461</td>\n",
       "      <td>0.390265</td>\n",
       "      <td>0.05</td>\n",
       "      <td>This gene is differentially expressed. (Fail t...</td>\n",
       "    </tr>\n",
       "    <tr>\n",
       "      <th>10</th>\n",
       "      <td>10</td>\n",
       "      <td>1438_at</td>\n",
       "      <td>-0.773456</td>\n",
       "      <td>0.447939</td>\n",
       "      <td>0.05</td>\n",
       "      <td>This gene is differentially expressed. (Fail t...</td>\n",
       "    </tr>\n",
       "    <tr>\n",
       "      <th>12</th>\n",
       "      <td>12</td>\n",
       "      <td>1494_f_at</td>\n",
       "      <td>-1.961819</td>\n",
       "      <td>0.063071</td>\n",
       "      <td>0.05</td>\n",
       "      <td>This gene is differentially expressed. (Fail t...</td>\n",
       "    </tr>\n",
       "    <tr>\n",
       "      <th>15</th>\n",
       "      <td>15</td>\n",
       "      <td>1552258_at</td>\n",
       "      <td>0.686081</td>\n",
       "      <td>0.495845</td>\n",
       "      <td>0.05</td>\n",
       "      <td>This gene is differentially expressed. (Fail t...</td>\n",
       "    </tr>\n",
       "    <tr>\n",
       "      <th>16</th>\n",
       "      <td>16</td>\n",
       "      <td>1552261_at</td>\n",
       "      <td>-0.276536</td>\n",
       "      <td>0.784596</td>\n",
       "      <td>0.05</td>\n",
       "      <td>This gene is differentially expressed. (Fail t...</td>\n",
       "    </tr>\n",
       "    <tr>\n",
       "      <th>...</th>\n",
       "      <td>...</td>\n",
       "      <td>...</td>\n",
       "      <td>...</td>\n",
       "      <td>...</td>\n",
       "      <td>...</td>\n",
       "      <td>...</td>\n",
       "    </tr>\n",
       "    <tr>\n",
       "      <th>54670</th>\n",
       "      <td>54670</td>\n",
       "      <td>AFFX-ThrX-5_at</td>\n",
       "      <td>-0.220623</td>\n",
       "      <td>0.828637</td>\n",
       "      <td>0.05</td>\n",
       "      <td>This gene is differentially expressed. (Fail t...</td>\n",
       "    </tr>\n",
       "    <tr>\n",
       "      <th>54671</th>\n",
       "      <td>54671</td>\n",
       "      <td>AFFX-ThrX-M_at</td>\n",
       "      <td>-1.418027</td>\n",
       "      <td>0.177694</td>\n",
       "      <td>0.05</td>\n",
       "      <td>This gene is differentially expressed. (Fail t...</td>\n",
       "    </tr>\n",
       "    <tr>\n",
       "      <th>54672</th>\n",
       "      <td>54672</td>\n",
       "      <td>AFFX-TrpnX-3_at</td>\n",
       "      <td>-0.594535</td>\n",
       "      <td>0.561908</td>\n",
       "      <td>0.05</td>\n",
       "      <td>This gene is differentially expressed. (Fail t...</td>\n",
       "    </tr>\n",
       "    <tr>\n",
       "      <th>54673</th>\n",
       "      <td>54673</td>\n",
       "      <td>AFFX-TrpnX-5_at</td>\n",
       "      <td>0.620717</td>\n",
       "      <td>0.542159</td>\n",
       "      <td>0.05</td>\n",
       "      <td>This gene is differentially expressed. (Fail t...</td>\n",
       "    </tr>\n",
       "    <tr>\n",
       "      <th>54674</th>\n",
       "      <td>54674</td>\n",
       "      <td>AFFX-TrpnX-M_at</td>\n",
       "      <td>-2.071115</td>\n",
       "      <td>0.057547</td>\n",
       "      <td>0.05</td>\n",
       "      <td>This gene is differentially expressed. (Fail t...</td>\n",
       "    </tr>\n",
       "  </tbody>\n",
       "</table>\n",
       "<p>27636 rows × 6 columns</p>\n",
       "</div>"
      ],
      "text/plain": [
       "       Unnamed: 0             Gene  Statistics         p  alpha  \\\n",
       "3               3           121_at    0.871461  0.390265   0.05   \n",
       "10             10          1438_at   -0.773456  0.447939   0.05   \n",
       "12             12        1494_f_at   -1.961819  0.063071   0.05   \n",
       "15             15       1552258_at    0.686081  0.495845   0.05   \n",
       "16             16       1552261_at   -0.276536  0.784596   0.05   \n",
       "...           ...              ...         ...       ...    ...   \n",
       "54670       54670   AFFX-ThrX-5_at   -0.220623  0.828637   0.05   \n",
       "54671       54671   AFFX-ThrX-M_at   -1.418027  0.177694   0.05   \n",
       "54672       54672  AFFX-TrpnX-3_at   -0.594535  0.561908   0.05   \n",
       "54673       54673  AFFX-TrpnX-5_at    0.620717  0.542159   0.05   \n",
       "54674       54674  AFFX-TrpnX-M_at   -2.071115  0.057547   0.05   \n",
       "\n",
       "                                          Interpretation  \n",
       "3      This gene is differentially expressed. (Fail t...  \n",
       "10     This gene is differentially expressed. (Fail t...  \n",
       "12     This gene is differentially expressed. (Fail t...  \n",
       "15     This gene is differentially expressed. (Fail t...  \n",
       "16     This gene is differentially expressed. (Fail t...  \n",
       "...                                                  ...  \n",
       "54670  This gene is differentially expressed. (Fail t...  \n",
       "54671  This gene is differentially expressed. (Fail t...  \n",
       "54672  This gene is differentially expressed. (Fail t...  \n",
       "54673  This gene is differentially expressed. (Fail t...  \n",
       "54674  This gene is differentially expressed. (Fail t...  \n",
       "\n",
       "[27636 rows x 6 columns]"
      ]
     },
     "execution_count": 172,
     "metadata": {},
     "output_type": "execute_result"
    }
   ],
   "source": [
    "# We define a new dataframe and feed the output of the extract_stat_sig function into this defintiion\n",
    "df_stats_sig_ependymoma = extract_stat_sig(df_stats_ependymoma)\n",
    "\n",
    "# We check if the function worked\n",
    "df_stats_sig_ependymoma"
   ]
  },
  {
   "cell_type": "markdown",
   "metadata": {},
   "source": [
    "We see that for the ependymoma group, there is 27039 genes are found to be statistically significant compared to the control group.\n",
    "\n",
    "Let's do the same for the other 3 cancer groups.\n",
    "\n",
    "## Glioblastoma"
   ]
  },
  {
   "cell_type": "code",
   "execution_count": 173,
   "metadata": {},
   "outputs": [
    {
     "data": {
      "application/vnd.microsoft.datawrangler.viewer.v0+json": {
       "columns": [
        {
         "name": "index",
         "rawType": "int64",
         "type": "integer"
        },
        {
         "name": "Unnamed: 0",
         "rawType": "int64",
         "type": "integer"
        },
        {
         "name": "Gene",
         "rawType": "object",
         "type": "string"
        },
        {
         "name": "Statistics",
         "rawType": "float64",
         "type": "float"
        },
        {
         "name": "p",
         "rawType": "float64",
         "type": "float"
        },
        {
         "name": "alpha",
         "rawType": "float64",
         "type": "float"
        },
        {
         "name": "Interpretation",
         "rawType": "object",
         "type": "string"
        }
       ],
       "ref": "7923066c-ee4c-43d7-a713-290f3d26010e",
       "rows": [
        [
         "3",
         "3",
         "121_at",
         "1.047483171849502",
         "0.3020996668657884",
         "0.05",
         "This gene is differentially expressed. (Fail to reject H0)"
        ],
        [
         "12",
         "12",
         "1494_f_at",
         "-0.7486272931536818",
         "0.4612374001152139",
         "0.05",
         "This gene is differentially expressed. (Fail to reject H0)"
        ],
        [
         "14",
         "14",
         "1552257_a_at",
         "-1.690574597090724",
         "0.0978662079095541",
         "0.05",
         "This gene is differentially expressed. (Fail to reject H0)"
        ],
        [
         "16",
         "16",
         "1552261_at",
         "-0.432345710787287",
         "0.6698658779097886",
         "0.05",
         "This gene is differentially expressed. (Fail to reject H0)"
        ],
        [
         "18",
         "18",
         "1552264_a_at",
         "0.3636703420534294",
         "0.7208069952293175",
         "0.05",
         "This gene is differentially expressed. (Fail to reject H0)"
        ],
        [
         "23",
         "23",
         "1552274_at",
         "-1.3913515647218255",
         "0.179801942595096",
         "0.05",
         "This gene is differentially expressed. (Fail to reject H0)"
        ],
        [
         "24",
         "24",
         "1552275_s_at",
         "-1.2893791582443253",
         "0.2133853152232415",
         "0.05",
         "This gene is differentially expressed. (Fail to reject H0)"
        ],
        [
         "25",
         "25",
         "1552276_a_at",
         "-1.1378692115956794",
         "0.2665970362057138",
         "0.05",
         "This gene is differentially expressed. (Fail to reject H0)"
        ],
        [
         "27",
         "27",
         "1552278_a_at",
         "0.146501551099819",
         "0.8849829040975277",
         "0.05",
         "This gene is differentially expressed. (Fail to reject H0)"
        ],
        [
         "28",
         "28",
         "1552279_a_at",
         "1.2154069854556069",
         "0.2351413141623848",
         "0.05",
         "This gene is differentially expressed. (Fail to reject H0)"
        ],
        [
         "29",
         "29",
         "1552280_at",
         "1.3908877356268747",
         "0.1763885806834391",
         "0.05",
         "This gene is differentially expressed. (Fail to reject H0)"
        ],
        [
         "33",
         "33",
         "1552287_s_at",
         "1.7979224758375345",
         "0.0864057108154382",
         "0.05",
         "This gene is differentially expressed. (Fail to reject H0)"
        ],
        [
         "34",
         "34",
         "1552288_at",
         "-0.2520073920591421",
         "0.8033097166118934",
         "0.05",
         "This gene is differentially expressed. (Fail to reject H0)"
        ],
        [
         "35",
         "35",
         "1552289_a_at",
         "1.165100882724002",
         "0.2523499499800792",
         "0.05",
         "This gene is differentially expressed. (Fail to reject H0)"
        ],
        [
         "36",
         "36",
         "1552291_at",
         "0.5383903185105345",
         "0.5975840425434986",
         "0.05",
         "This gene is differentially expressed. (Fail to reject H0)"
        ],
        [
         "37",
         "37",
         "1552293_at",
         "-1.93965115588364",
         "0.067238356905441",
         "0.05",
         "This gene is differentially expressed. (Fail to reject H0)"
        ],
        [
         "38",
         "38",
         "1552295_a_at",
         "1.922494651684472",
         "0.0677456082087425",
         "0.05",
         "This gene is differentially expressed. (Fail to reject H0)"
        ],
        [
         "39",
         "39",
         "1552296_at",
         "0.132253538401255",
         "0.8958325190448164",
         "0.05",
         "This gene is differentially expressed. (Fail to reject H0)"
        ],
        [
         "40",
         "40",
         "1552299_at",
         "-1.7039181892850903",
         "0.0994396391516831",
         "0.05",
         "This gene is differentially expressed. (Fail to reject H0)"
        ],
        [
         "43",
         "43",
         "1552303_a_at",
         "1.5260497531335415",
         "0.1367648185170632",
         "0.05",
         "This gene is differentially expressed. (Fail to reject H0)"
        ],
        [
         "47",
         "47",
         "1552309_a_at",
         "1.4215819245296628",
         "0.1673654131317682",
         "0.05",
         "This gene is differentially expressed. (Fail to reject H0)"
        ],
        [
         "48",
         "48",
         "1552310_at",
         "1.2771694074346684",
         "0.2121879257655702",
         "0.05",
         "This gene is differentially expressed. (Fail to reject H0)"
        ],
        [
         "50",
         "50",
         "1552312_a_at",
         "2.007096019381429",
         "0.057474097461198",
         "0.05",
         "This gene is differentially expressed. (Fail to reject H0)"
        ],
        [
         "52",
         "52",
         "1552315_at",
         "1.731160509578113",
         "0.096177964170326",
         "0.05",
         "This gene is differentially expressed. (Fail to reject H0)"
        ],
        [
         "53",
         "53",
         "1552316_a_at",
         "0.8233909224538383",
         "0.4171900749093074",
         "0.05",
         "This gene is differentially expressed. (Fail to reject H0)"
        ],
        [
         "55",
         "55",
         "1552319_a_at",
         "-0.9965137130210484",
         "0.3282923809820658",
         "0.05",
         "This gene is differentially expressed. (Fail to reject H0)"
        ],
        [
         "56",
         "56",
         "1552320_a_at",
         "0.1757481031950573",
         "0.8614021066502051",
         "0.05",
         "This gene is differentially expressed. (Fail to reject H0)"
        ],
        [
         "57",
         "57",
         "1552321_a_at",
         "0.020318011519349",
         "0.9839080269062448",
         "0.05",
         "This gene is differentially expressed. (Fail to reject H0)"
        ],
        [
         "60",
         "60",
         "1552325_at",
         "-1.4511073432436097",
         "0.166634167409322",
         "0.05",
         "This gene is differentially expressed. (Fail to reject H0)"
        ],
        [
         "61",
         "61",
         "1552326_a_at",
         "0.6225683639264337",
         "0.5391460785265269",
         "0.05",
         "This gene is differentially expressed. (Fail to reject H0)"
        ],
        [
         "62",
         "62",
         "1552327_at",
         "1.1144891721961705",
         "0.2728654900687726",
         "0.05",
         "This gene is differentially expressed. (Fail to reject H0)"
        ],
        [
         "63",
         "63",
         "1552329_at",
         "-0.5778727255266546",
         "0.5679009975324472",
         "0.05",
         "This gene is differentially expressed. (Fail to reject H0)"
        ],
        [
         "64",
         "64",
         "1552330_at",
         "0.929565578475103",
         "0.3589609139847288",
         "0.05",
         "This gene is differentially expressed. (Fail to reject H0)"
        ],
        [
         "65",
         "65",
         "1552332_at",
         "0.6281563825227581",
         "0.5381630111853271",
         "0.05",
         "This gene is differentially expressed. (Fail to reject H0)"
        ],
        [
         "69",
         "69",
         "1552338_at",
         "1.0907595753536017",
         "0.2836547017646283",
         "0.05",
         "This gene is differentially expressed. (Fail to reject H0)"
        ],
        [
         "70",
         "70",
         "1552340_at",
         "-1.4643453088053486",
         "0.160183749122601",
         "0.05",
         "This gene is differentially expressed. (Fail to reject H0)"
        ],
        [
         "72",
         "72",
         "1552344_s_at",
         "0.938937405931011",
         "0.3615290530808549",
         "0.05",
         "This gene is differentially expressed. (Fail to reject H0)"
        ],
        [
         "73",
         "73",
         "1552347_at",
         "0.4664960191653083",
         "0.6466819694765558",
         "0.05",
         "This gene is differentially expressed. (Fail to reject H0)"
        ],
        [
         "74",
         "74",
         "1552348_at",
         "0.2782881198882671",
         "0.782761426402041",
         "0.05",
         "This gene is differentially expressed. (Fail to reject H0)"
        ],
        [
         "75",
         "75",
         "1552349_a_at",
         "0.0175021496737663",
         "0.986139837633281",
         "0.05",
         "This gene is differentially expressed. (Fail to reject H0)"
        ],
        [
         "76",
         "76",
         "1552354_at",
         "0.1317691255845599",
         "0.8962781031666245",
         "0.05",
         "This gene is differentially expressed. (Fail to reject H0)"
        ],
        [
         "77",
         "77",
         "1552355_s_at",
         "-1.8416739558726345",
         "0.0770014011136429",
         "0.05",
         "This gene is differentially expressed. (Fail to reject H0)"
        ],
        [
         "78",
         "78",
         "1552359_at",
         "0.4906391595576931",
         "0.6262255262361132",
         "0.05",
         "This gene is differentially expressed. (Fail to reject H0)"
        ],
        [
         "80",
         "80",
         "1552362_a_at",
         "0.9826574698419908",
         "0.3381776930681648",
         "0.05",
         "This gene is differentially expressed. (Fail to reject H0)"
        ],
        [
         "84",
         "84",
         "1552368_at",
         "0.1520749834349227",
         "0.8802520113168393",
         "0.05",
         "This gene is differentially expressed. (Fail to reject H0)"
        ],
        [
         "86",
         "86",
         "1552372_at",
         "0.2048447224105234",
         "0.8394744453943003",
         "0.05",
         "This gene is differentially expressed. (Fail to reject H0)"
        ],
        [
         "87",
         "87",
         "1552373_s_at",
         "-0.6235948675467193",
         "0.5397414193159864",
         "0.05",
         "This gene is differentially expressed. (Fail to reject H0)"
        ],
        [
         "89",
         "89",
         "1552377_s_at",
         "1.4335817343645452",
         "0.1676826109161222",
         "0.05",
         "This gene is differentially expressed. (Fail to reject H0)"
        ],
        [
         "91",
         "91",
         "1552379_at",
         "-1.726080490016325",
         "0.1050972919717543",
         "0.05",
         "This gene is differentially expressed. (Fail to reject H0)"
        ],
        [
         "92",
         "92",
         "1552381_at",
         "-1.2424814156978026",
         "0.2246916971610649",
         "0.05",
         "This gene is differentially expressed. (Fail to reject H0)"
        ]
       ],
       "shape": {
        "columns": 6,
        "rows": 29716
       }
      },
      "text/html": [
       "<div>\n",
       "<style scoped>\n",
       "    .dataframe tbody tr th:only-of-type {\n",
       "        vertical-align: middle;\n",
       "    }\n",
       "\n",
       "    .dataframe tbody tr th {\n",
       "        vertical-align: top;\n",
       "    }\n",
       "\n",
       "    .dataframe thead th {\n",
       "        text-align: right;\n",
       "    }\n",
       "</style>\n",
       "<table border=\"1\" class=\"dataframe\">\n",
       "  <thead>\n",
       "    <tr style=\"text-align: right;\">\n",
       "      <th></th>\n",
       "      <th>Unnamed: 0</th>\n",
       "      <th>Gene</th>\n",
       "      <th>Statistics</th>\n",
       "      <th>p</th>\n",
       "      <th>alpha</th>\n",
       "      <th>Interpretation</th>\n",
       "    </tr>\n",
       "  </thead>\n",
       "  <tbody>\n",
       "    <tr>\n",
       "      <th>3</th>\n",
       "      <td>3</td>\n",
       "      <td>121_at</td>\n",
       "      <td>1.047483</td>\n",
       "      <td>0.302100</td>\n",
       "      <td>0.05</td>\n",
       "      <td>This gene is differentially expressed. (Fail t...</td>\n",
       "    </tr>\n",
       "    <tr>\n",
       "      <th>12</th>\n",
       "      <td>12</td>\n",
       "      <td>1494_f_at</td>\n",
       "      <td>-0.748627</td>\n",
       "      <td>0.461237</td>\n",
       "      <td>0.05</td>\n",
       "      <td>This gene is differentially expressed. (Fail t...</td>\n",
       "    </tr>\n",
       "    <tr>\n",
       "      <th>14</th>\n",
       "      <td>14</td>\n",
       "      <td>1552257_a_at</td>\n",
       "      <td>-1.690575</td>\n",
       "      <td>0.097866</td>\n",
       "      <td>0.05</td>\n",
       "      <td>This gene is differentially expressed. (Fail t...</td>\n",
       "    </tr>\n",
       "    <tr>\n",
       "      <th>16</th>\n",
       "      <td>16</td>\n",
       "      <td>1552261_at</td>\n",
       "      <td>-0.432346</td>\n",
       "      <td>0.669866</td>\n",
       "      <td>0.05</td>\n",
       "      <td>This gene is differentially expressed. (Fail t...</td>\n",
       "    </tr>\n",
       "    <tr>\n",
       "      <th>18</th>\n",
       "      <td>18</td>\n",
       "      <td>1552264_a_at</td>\n",
       "      <td>0.363670</td>\n",
       "      <td>0.720807</td>\n",
       "      <td>0.05</td>\n",
       "      <td>This gene is differentially expressed. (Fail t...</td>\n",
       "    </tr>\n",
       "    <tr>\n",
       "      <th>...</th>\n",
       "      <td>...</td>\n",
       "      <td>...</td>\n",
       "      <td>...</td>\n",
       "      <td>...</td>\n",
       "      <td>...</td>\n",
       "      <td>...</td>\n",
       "    </tr>\n",
       "    <tr>\n",
       "      <th>54670</th>\n",
       "      <td>54670</td>\n",
       "      <td>AFFX-ThrX-5_at</td>\n",
       "      <td>-0.215136</td>\n",
       "      <td>0.832320</td>\n",
       "      <td>0.05</td>\n",
       "      <td>This gene is differentially expressed. (Fail t...</td>\n",
       "    </tr>\n",
       "    <tr>\n",
       "      <th>54671</th>\n",
       "      <td>54671</td>\n",
       "      <td>AFFX-ThrX-M_at</td>\n",
       "      <td>-0.363187</td>\n",
       "      <td>0.720713</td>\n",
       "      <td>0.05</td>\n",
       "      <td>This gene is differentially expressed. (Fail t...</td>\n",
       "    </tr>\n",
       "    <tr>\n",
       "      <th>54672</th>\n",
       "      <td>54672</td>\n",
       "      <td>AFFX-TrpnX-3_at</td>\n",
       "      <td>-0.956641</td>\n",
       "      <td>0.356260</td>\n",
       "      <td>0.05</td>\n",
       "      <td>This gene is differentially expressed. (Fail t...</td>\n",
       "    </tr>\n",
       "    <tr>\n",
       "      <th>54673</th>\n",
       "      <td>54673</td>\n",
       "      <td>AFFX-TrpnX-5_at</td>\n",
       "      <td>0.356881</td>\n",
       "      <td>0.724382</td>\n",
       "      <td>0.05</td>\n",
       "      <td>This gene is differentially expressed. (Fail t...</td>\n",
       "    </tr>\n",
       "    <tr>\n",
       "      <th>54674</th>\n",
       "      <td>54674</td>\n",
       "      <td>AFFX-TrpnX-M_at</td>\n",
       "      <td>-1.468022</td>\n",
       "      <td>0.162005</td>\n",
       "      <td>0.05</td>\n",
       "      <td>This gene is differentially expressed. (Fail t...</td>\n",
       "    </tr>\n",
       "  </tbody>\n",
       "</table>\n",
       "<p>29716 rows × 6 columns</p>\n",
       "</div>"
      ],
      "text/plain": [
       "       Unnamed: 0             Gene  Statistics         p  alpha  \\\n",
       "3               3           121_at    1.047483  0.302100   0.05   \n",
       "12             12        1494_f_at   -0.748627  0.461237   0.05   \n",
       "14             14     1552257_a_at   -1.690575  0.097866   0.05   \n",
       "16             16       1552261_at   -0.432346  0.669866   0.05   \n",
       "18             18     1552264_a_at    0.363670  0.720807   0.05   \n",
       "...           ...              ...         ...       ...    ...   \n",
       "54670       54670   AFFX-ThrX-5_at   -0.215136  0.832320   0.05   \n",
       "54671       54671   AFFX-ThrX-M_at   -0.363187  0.720713   0.05   \n",
       "54672       54672  AFFX-TrpnX-3_at   -0.956641  0.356260   0.05   \n",
       "54673       54673  AFFX-TrpnX-5_at    0.356881  0.724382   0.05   \n",
       "54674       54674  AFFX-TrpnX-M_at   -1.468022  0.162005   0.05   \n",
       "\n",
       "                                          Interpretation  \n",
       "3      This gene is differentially expressed. (Fail t...  \n",
       "12     This gene is differentially expressed. (Fail t...  \n",
       "14     This gene is differentially expressed. (Fail t...  \n",
       "16     This gene is differentially expressed. (Fail t...  \n",
       "18     This gene is differentially expressed. (Fail t...  \n",
       "...                                                  ...  \n",
       "54670  This gene is differentially expressed. (Fail t...  \n",
       "54671  This gene is differentially expressed. (Fail t...  \n",
       "54672  This gene is differentially expressed. (Fail t...  \n",
       "54673  This gene is differentially expressed. (Fail t...  \n",
       "54674  This gene is differentially expressed. (Fail t...  \n",
       "\n",
       "[29716 rows x 6 columns]"
      ]
     },
     "execution_count": 173,
     "metadata": {},
     "output_type": "execute_result"
    }
   ],
   "source": [
    "df_stats_sig_glioblastoma = extract_stat_sig(df_stats_glioblastoma)\n",
    "\n",
    "df_stats_sig_glioblastoma"
   ]
  },
  {
   "cell_type": "markdown",
   "metadata": {},
   "source": [
    "## Medulloblastoma"
   ]
  },
  {
   "cell_type": "code",
   "execution_count": 174,
   "metadata": {},
   "outputs": [
    {
     "data": {
      "application/vnd.microsoft.datawrangler.viewer.v0+json": {
       "columns": [
        {
         "name": "index",
         "rawType": "int64",
         "type": "integer"
        },
        {
         "name": "Unnamed: 0",
         "rawType": "int64",
         "type": "integer"
        },
        {
         "name": "Gene",
         "rawType": "object",
         "type": "string"
        },
        {
         "name": "Statistics",
         "rawType": "float64",
         "type": "float"
        },
        {
         "name": "p",
         "rawType": "float64",
         "type": "float"
        },
        {
         "name": "alpha",
         "rawType": "float64",
         "type": "float"
        },
        {
         "name": "Interpretation",
         "rawType": "object",
         "type": "string"
        }
       ],
       "ref": "1651254b-d818-4d04-bcd5-62f531b27bb8",
       "rows": [
        [
         "0",
         "0",
         "1007_s_at",
         "-0.6165886754336338",
         "0.543345717973453",
         "0.05",
         "This gene is differentially expressed. (Fail to reject H0)"
        ],
        [
         "2",
         "2",
         "117_at",
         "-0.4732234112021191",
         "0.6420638200173787",
         "0.05",
         "This gene is differentially expressed. (Fail to reject H0)"
        ],
        [
         "3",
         "3",
         "121_at",
         "-0.596744068820451",
         "0.5547859623337144",
         "0.05",
         "This gene is differentially expressed. (Fail to reject H0)"
        ],
        [
         "5",
         "5",
         "1294_at",
         "-0.7651274989483163",
         "0.4517537865531766",
         "0.05",
         "This gene is differentially expressed. (Fail to reject H0)"
        ],
        [
         "8",
         "8",
         "1405_i_at",
         "0.2721989564176214",
         "0.788389380283751",
         "0.05",
         "This gene is differentially expressed. (Fail to reject H0)"
        ],
        [
         "10",
         "10",
         "1438_at",
         "-2.039421223706055",
         "0.0518213793873435",
         "0.05",
         "This gene is differentially expressed. (Fail to reject H0)"
        ],
        [
         "12",
         "12",
         "1494_f_at",
         "-1.740753297471402",
         "0.0941294992870234",
         "0.05",
         "This gene is differentially expressed. (Fail to reject H0)"
        ],
        [
         "15",
         "15",
         "1552258_at",
         "0.8830966945465757",
         "0.3835755546771359",
         "0.05",
         "This gene is differentially expressed. (Fail to reject H0)"
        ],
        [
         "16",
         "16",
         "1552261_at",
         "-0.6731751606114105",
         "0.5064641564042877",
         "0.05",
         "This gene is differentially expressed. (Fail to reject H0)"
        ],
        [
         "17",
         "17",
         "1552263_at",
         "1.2867588863009862",
         "0.2073192154211471",
         "0.05",
         "This gene is differentially expressed. (Fail to reject H0)"
        ],
        [
         "18",
         "18",
         "1552264_a_at",
         "-0.2313175860428477",
         "0.8195693267370661",
         "0.05",
         "This gene is differentially expressed. (Fail to reject H0)"
        ],
        [
         "25",
         "25",
         "1552276_a_at",
         "-1.084691291390907",
         "0.2867886867442853",
         "0.05",
         "This gene is differentially expressed. (Fail to reject H0)"
        ],
        [
         "27",
         "27",
         "1552278_a_at",
         "0.3979757466656743",
         "0.6933338498839235",
         "0.05",
         "This gene is differentially expressed. (Fail to reject H0)"
        ],
        [
         "29",
         "29",
         "1552280_at",
         "0.3465610119988022",
         "0.7317133159946674",
         "0.05",
         "This gene is differentially expressed. (Fail to reject H0)"
        ],
        [
         "30",
         "30",
         "1552281_at",
         "1.7842854379607749",
         "0.0835997581101349",
         "0.05",
         "This gene is differentially expressed. (Fail to reject H0)"
        ],
        [
         "32",
         "32",
         "1552286_at",
         "0.2211866387192591",
         "0.8265867233469062",
         "0.05",
         "This gene is differentially expressed. (Fail to reject H0)"
        ],
        [
         "34",
         "34",
         "1552288_at",
         "1.3484480544687238",
         "0.1867532070896204",
         "0.05",
         "This gene is differentially expressed. (Fail to reject H0)"
        ],
        [
         "36",
         "36",
         "1552291_at",
         "-1.9910099703045432",
         "0.0585636823050923",
         "0.05",
         "This gene is differentially expressed. (Fail to reject H0)"
        ],
        [
         "39",
         "39",
         "1552296_at",
         "-0.075617232993679",
         "0.9405248871067904",
         "0.05",
         "This gene is differentially expressed. (Fail to reject H0)"
        ],
        [
         "42",
         "42",
         "1552302_at",
         "0.3294781512186204",
         "0.7438804054905712",
         "0.05",
         "This gene is differentially expressed. (Fail to reject H0)"
        ],
        [
         "43",
         "43",
         "1552303_a_at",
         "-1.1133213928974028",
         "0.2771822705015289",
         "0.05",
         "This gene is differentially expressed. (Fail to reject H0)"
        ],
        [
         "46",
         "46",
         "1552307_a_at",
         "1.79683877723159",
         "0.0815210993638814",
         "0.05",
         "This gene is differentially expressed. (Fail to reject H0)"
        ],
        [
         "47",
         "47",
         "1552309_a_at",
         "-0.8551213288768728",
         "0.4005951563668828",
         "0.05",
         "This gene is differentially expressed. (Fail to reject H0)"
        ],
        [
         "48",
         "48",
         "1552310_at",
         "1.5666150990594767",
         "0.1316349920244548",
         "0.05",
         "This gene is differentially expressed. (Fail to reject H0)"
        ],
        [
         "49",
         "49",
         "1552311_a_at",
         "-0.2042237982792976",
         "0.8395951729678778",
         "0.05",
         "This gene is differentially expressed. (Fail to reject H0)"
        ],
        [
         "51",
         "51",
         "1552314_a_at",
         "1.033526476244984",
         "0.3123149087838645",
         "0.05",
         "This gene is differentially expressed. (Fail to reject H0)"
        ],
        [
         "52",
         "52",
         "1552315_at",
         "-0.4803268521444507",
         "0.6345517065542114",
         "0.05",
         "This gene is differentially expressed. (Fail to reject H0)"
        ],
        [
         "54",
         "54",
         "1552318_at",
         "-0.9220431826874096",
         "0.3654355334183612",
         "0.05",
         "This gene is differentially expressed. (Fail to reject H0)"
        ],
        [
         "55",
         "55",
         "1552319_a_at",
         "-0.0556470209741804",
         "0.9559999943155436",
         "0.05",
         "This gene is differentially expressed. (Fail to reject H0)"
        ],
        [
         "57",
         "57",
         "1552321_a_at",
         "-1.040719290439362",
         "0.3056328591111911",
         "0.05",
         "This gene is differentially expressed. (Fail to reject H0)"
        ],
        [
         "60",
         "60",
         "1552325_at",
         "-1.330415658465785",
         "0.194829577008357",
         "0.05",
         "This gene is differentially expressed. (Fail to reject H0)"
        ],
        [
         "62",
         "62",
         "1552327_at",
         "1.7584789571753543",
         "0.0880530363863862",
         "0.05",
         "This gene is differentially expressed. (Fail to reject H0)"
        ],
        [
         "63",
         "63",
         "1552329_at",
         "0.6164011725262246",
         "0.5428880471683104",
         "0.05",
         "This gene is differentially expressed. (Fail to reject H0)"
        ],
        [
         "65",
         "65",
         "1552332_at",
         "0.6939465451028305",
         "0.4960982916043087",
         "0.05",
         "This gene is differentially expressed. (Fail to reject H0)"
        ],
        [
         "68",
         "68",
         "1552337_s_at",
         "-0.2418943855386182",
         "0.8103844968447542",
         "0.05",
         "This gene is differentially expressed. (Fail to reject H0)"
        ],
        [
         "69",
         "69",
         "1552338_at",
         "-0.4831799720640883",
         "0.632193325306065",
         "0.05",
         "This gene is differentially expressed. (Fail to reject H0)"
        ],
        [
         "70",
         "70",
         "1552340_at",
         "-1.2082100362807522",
         "0.238571796108075",
         "0.05",
         "This gene is differentially expressed. (Fail to reject H0)"
        ],
        [
         "71",
         "71",
         "1552343_s_at",
         "1.2119794343210537",
         "0.2344983988428295",
         "0.05",
         "This gene is differentially expressed. (Fail to reject H0)"
        ],
        [
         "74",
         "74",
         "1552348_at",
         "-1.0309564643026372",
         "0.3119717236363412",
         "0.05",
         "This gene is differentially expressed. (Fail to reject H0)"
        ],
        [
         "75",
         "75",
         "1552349_a_at",
         "-0.4459247228292984",
         "0.6594952678740865",
         "0.05",
         "This gene is differentially expressed. (Fail to reject H0)"
        ],
        [
         "76",
         "76",
         "1552354_at",
         "-0.487522373472927",
         "0.6316917133049381",
         "0.05",
         "This gene is differentially expressed. (Fail to reject H0)"
        ],
        [
         "80",
         "80",
         "1552362_a_at",
         "2.03496844372987",
         "0.0534717525592195",
         "0.05",
         "This gene is differentially expressed. (Fail to reject H0)"
        ],
        [
         "82",
         "82",
         "1552365_at",
         "-1.7553133799856582",
         "0.0897908121209462",
         "0.05",
         "This gene is differentially expressed. (Fail to reject H0)"
        ],
        [
         "83",
         "83",
         "1552367_a_at",
         "-1.1362364051809049",
         "0.2653611889500254",
         "0.05",
         "This gene is differentially expressed. (Fail to reject H0)"
        ],
        [
         "84",
         "84",
         "1552368_at",
         "0.8627718782263379",
         "0.3948677406269798",
         "0.05",
         "This gene is differentially expressed. (Fail to reject H0)"
        ],
        [
         "86",
         "86",
         "1552372_at",
         "0.021669365715661",
         "0.982942578770544",
         "0.05",
         "This gene is differentially expressed. (Fail to reject H0)"
        ],
        [
         "87",
         "87",
         "1552373_s_at",
         "-0.6973727367746883",
         "0.4926670703466657",
         "0.05",
         "This gene is differentially expressed. (Fail to reject H0)"
        ],
        [
         "89",
         "89",
         "1552377_s_at",
         "0.3347604241229918",
         "0.7405852406512838",
         "0.05",
         "This gene is differentially expressed. (Fail to reject H0)"
        ],
        [
         "91",
         "91",
         "1552379_at",
         "-0.6864955142224833",
         "0.500077183421325",
         "0.05",
         "This gene is differentially expressed. (Fail to reject H0)"
        ],
        [
         "94",
         "94",
         "1552384_a_at",
         "-1.2721438886479302",
         "0.21664513555127",
         "0.05",
         "This gene is differentially expressed. (Fail to reject H0)"
        ]
       ],
       "shape": {
        "columns": 6,
        "rows": 31044
       }
      },
      "text/html": [
       "<div>\n",
       "<style scoped>\n",
       "    .dataframe tbody tr th:only-of-type {\n",
       "        vertical-align: middle;\n",
       "    }\n",
       "\n",
       "    .dataframe tbody tr th {\n",
       "        vertical-align: top;\n",
       "    }\n",
       "\n",
       "    .dataframe thead th {\n",
       "        text-align: right;\n",
       "    }\n",
       "</style>\n",
       "<table border=\"1\" class=\"dataframe\">\n",
       "  <thead>\n",
       "    <tr style=\"text-align: right;\">\n",
       "      <th></th>\n",
       "      <th>Unnamed: 0</th>\n",
       "      <th>Gene</th>\n",
       "      <th>Statistics</th>\n",
       "      <th>p</th>\n",
       "      <th>alpha</th>\n",
       "      <th>Interpretation</th>\n",
       "    </tr>\n",
       "  </thead>\n",
       "  <tbody>\n",
       "    <tr>\n",
       "      <th>0</th>\n",
       "      <td>0</td>\n",
       "      <td>1007_s_at</td>\n",
       "      <td>-0.616589</td>\n",
       "      <td>0.543346</td>\n",
       "      <td>0.05</td>\n",
       "      <td>This gene is differentially expressed. (Fail t...</td>\n",
       "    </tr>\n",
       "    <tr>\n",
       "      <th>2</th>\n",
       "      <td>2</td>\n",
       "      <td>117_at</td>\n",
       "      <td>-0.473223</td>\n",
       "      <td>0.642064</td>\n",
       "      <td>0.05</td>\n",
       "      <td>This gene is differentially expressed. (Fail t...</td>\n",
       "    </tr>\n",
       "    <tr>\n",
       "      <th>3</th>\n",
       "      <td>3</td>\n",
       "      <td>121_at</td>\n",
       "      <td>-0.596744</td>\n",
       "      <td>0.554786</td>\n",
       "      <td>0.05</td>\n",
       "      <td>This gene is differentially expressed. (Fail t...</td>\n",
       "    </tr>\n",
       "    <tr>\n",
       "      <th>5</th>\n",
       "      <td>5</td>\n",
       "      <td>1294_at</td>\n",
       "      <td>-0.765127</td>\n",
       "      <td>0.451754</td>\n",
       "      <td>0.05</td>\n",
       "      <td>This gene is differentially expressed. (Fail t...</td>\n",
       "    </tr>\n",
       "    <tr>\n",
       "      <th>8</th>\n",
       "      <td>8</td>\n",
       "      <td>1405_i_at</td>\n",
       "      <td>0.272199</td>\n",
       "      <td>0.788389</td>\n",
       "      <td>0.05</td>\n",
       "      <td>This gene is differentially expressed. (Fail t...</td>\n",
       "    </tr>\n",
       "    <tr>\n",
       "      <th>...</th>\n",
       "      <td>...</td>\n",
       "      <td>...</td>\n",
       "      <td>...</td>\n",
       "      <td>...</td>\n",
       "      <td>...</td>\n",
       "      <td>...</td>\n",
       "    </tr>\n",
       "    <tr>\n",
       "      <th>54670</th>\n",
       "      <td>54670</td>\n",
       "      <td>AFFX-ThrX-5_at</td>\n",
       "      <td>-1.131039</td>\n",
       "      <td>0.274949</td>\n",
       "      <td>0.05</td>\n",
       "      <td>This gene is differentially expressed. (Fail t...</td>\n",
       "    </tr>\n",
       "    <tr>\n",
       "      <th>54671</th>\n",
       "      <td>54671</td>\n",
       "      <td>AFFX-ThrX-M_at</td>\n",
       "      <td>-0.397812</td>\n",
       "      <td>0.694706</td>\n",
       "      <td>0.05</td>\n",
       "      <td>This gene is differentially expressed. (Fail t...</td>\n",
       "    </tr>\n",
       "    <tr>\n",
       "      <th>54672</th>\n",
       "      <td>54672</td>\n",
       "      <td>AFFX-TrpnX-3_at</td>\n",
       "      <td>-0.233311</td>\n",
       "      <td>0.818677</td>\n",
       "      <td>0.05</td>\n",
       "      <td>This gene is differentially expressed. (Fail t...</td>\n",
       "    </tr>\n",
       "    <tr>\n",
       "      <th>54673</th>\n",
       "      <td>54673</td>\n",
       "      <td>AFFX-TrpnX-5_at</td>\n",
       "      <td>1.387282</td>\n",
       "      <td>0.174658</td>\n",
       "      <td>0.05</td>\n",
       "      <td>This gene is differentially expressed. (Fail t...</td>\n",
       "    </tr>\n",
       "    <tr>\n",
       "      <th>54674</th>\n",
       "      <td>54674</td>\n",
       "      <td>AFFX-TrpnX-M_at</td>\n",
       "      <td>-1.315359</td>\n",
       "      <td>0.203090</td>\n",
       "      <td>0.05</td>\n",
       "      <td>This gene is differentially expressed. (Fail t...</td>\n",
       "    </tr>\n",
       "  </tbody>\n",
       "</table>\n",
       "<p>31044 rows × 6 columns</p>\n",
       "</div>"
      ],
      "text/plain": [
       "       Unnamed: 0             Gene  Statistics         p  alpha  \\\n",
       "0               0        1007_s_at   -0.616589  0.543346   0.05   \n",
       "2               2           117_at   -0.473223  0.642064   0.05   \n",
       "3               3           121_at   -0.596744  0.554786   0.05   \n",
       "5               5          1294_at   -0.765127  0.451754   0.05   \n",
       "8               8        1405_i_at    0.272199  0.788389   0.05   \n",
       "...           ...              ...         ...       ...    ...   \n",
       "54670       54670   AFFX-ThrX-5_at   -1.131039  0.274949   0.05   \n",
       "54671       54671   AFFX-ThrX-M_at   -0.397812  0.694706   0.05   \n",
       "54672       54672  AFFX-TrpnX-3_at   -0.233311  0.818677   0.05   \n",
       "54673       54673  AFFX-TrpnX-5_at    1.387282  0.174658   0.05   \n",
       "54674       54674  AFFX-TrpnX-M_at   -1.315359  0.203090   0.05   \n",
       "\n",
       "                                          Interpretation  \n",
       "0      This gene is differentially expressed. (Fail t...  \n",
       "2      This gene is differentially expressed. (Fail t...  \n",
       "3      This gene is differentially expressed. (Fail t...  \n",
       "5      This gene is differentially expressed. (Fail t...  \n",
       "8      This gene is differentially expressed. (Fail t...  \n",
       "...                                                  ...  \n",
       "54670  This gene is differentially expressed. (Fail t...  \n",
       "54671  This gene is differentially expressed. (Fail t...  \n",
       "54672  This gene is differentially expressed. (Fail t...  \n",
       "54673  This gene is differentially expressed. (Fail t...  \n",
       "54674  This gene is differentially expressed. (Fail t...  \n",
       "\n",
       "[31044 rows x 6 columns]"
      ]
     },
     "execution_count": 174,
     "metadata": {},
     "output_type": "execute_result"
    }
   ],
   "source": [
    "df_stats_sig_medulloblastoma = extract_stat_sig(df_stats_medulloblastoma)\n",
    "\n",
    "df_stats_sig_medulloblastoma"
   ]
  },
  {
   "cell_type": "markdown",
   "metadata": {},
   "source": [
    "## Pilocytic Astrocytoma"
   ]
  },
  {
   "cell_type": "code",
   "execution_count": 175,
   "metadata": {},
   "outputs": [
    {
     "data": {
      "application/vnd.microsoft.datawrangler.viewer.v0+json": {
       "columns": [
        {
         "name": "index",
         "rawType": "int64",
         "type": "integer"
        },
        {
         "name": "Unnamed: 0",
         "rawType": "int64",
         "type": "integer"
        },
        {
         "name": "Gene",
         "rawType": "object",
         "type": "string"
        },
        {
         "name": "Statistics",
         "rawType": "float64",
         "type": "float"
        },
        {
         "name": "p",
         "rawType": "float64",
         "type": "float"
        },
        {
         "name": "alpha",
         "rawType": "float64",
         "type": "float"
        },
        {
         "name": "Interpretation",
         "rawType": "object",
         "type": "string"
        }
       ],
       "ref": "cb28de52-56d2-4498-be0a-c8c2122a1066",
       "rows": [
        [
         "1",
         "1",
         "1053_at",
         "1.957004249670948",
         "0.0623489107201542",
         "0.05",
         "This gene is differentially expressed. (Fail to reject H0)"
        ],
        [
         "2",
         "2",
         "117_at",
         "1.8209102544683409",
         "0.0839523508385087",
         "0.05",
         "This gene is differentially expressed. (Fail to reject H0)"
        ],
        [
         "3",
         "3",
         "121_at",
         "1.2876179100983822",
         "0.2108091543805881",
         "0.05",
         "This gene is differentially expressed. (Fail to reject H0)"
        ],
        [
         "4",
         "4",
         "1255_g_at",
         "-1.3367254835593885",
         "0.1934718371111646",
         "0.05",
         "This gene is differentially expressed. (Fail to reject H0)"
        ],
        [
         "10",
         "10",
         "1438_at",
         "-0.7665668864723854",
         "0.4515644913148858",
         "0.05",
         "This gene is differentially expressed. (Fail to reject H0)"
        ],
        [
         "12",
         "12",
         "1494_f_at",
         "1.3072745543439857",
         "0.2025634516091294",
         "0.05",
         "This gene is differentially expressed. (Fail to reject H0)"
        ],
        [
         "16",
         "16",
         "1552261_at",
         "-0.3229910059383726",
         "0.7493075464505308",
         "0.05",
         "This gene is differentially expressed. (Fail to reject H0)"
        ],
        [
         "18",
         "18",
         "1552264_a_at",
         "0.0264235179147117",
         "0.9792521823462512",
         "0.05",
         "This gene is differentially expressed. (Fail to reject H0)"
        ],
        [
         "21",
         "21",
         "1552271_at",
         "0.6680190775691149",
         "0.5100089128346333",
         "0.05",
         "This gene is differentially expressed. (Fail to reject H0)"
        ],
        [
         "23",
         "23",
         "1552274_at",
         "-0.0667513349064725",
         "0.9474489321788614",
         "0.05",
         "This gene is differentially expressed. (Fail to reject H0)"
        ],
        [
         "24",
         "24",
         "1552275_s_at",
         "0.6120952492655378",
         "0.5460274819762608",
         "0.05",
         "This gene is differentially expressed. (Fail to reject H0)"
        ],
        [
         "25",
         "25",
         "1552276_a_at",
         "-0.5027550660366921",
         "0.6199960174134704",
         "0.05",
         "This gene is differentially expressed. (Fail to reject H0)"
        ],
        [
         "27",
         "27",
         "1552278_a_at",
         "0.9902401363415874",
         "0.3312209397701136",
         "0.05",
         "This gene is differentially expressed. (Fail to reject H0)"
        ],
        [
         "29",
         "29",
         "1552280_at",
         "1.086105390800825",
         "0.2876415195232017",
         "0.05",
         "This gene is differentially expressed. (Fail to reject H0)"
        ],
        [
         "32",
         "32",
         "1552286_at",
         "-0.1264323965714119",
         "0.9007869826368972",
         "0.05",
         "This gene is differentially expressed. (Fail to reject H0)"
        ],
        [
         "33",
         "33",
         "1552287_s_at",
         "0.8062164336037294",
         "0.4289663785407749",
         "0.05",
         "This gene is differentially expressed. (Fail to reject H0)"
        ],
        [
         "34",
         "34",
         "1552288_at",
         "-1.0758790204039792",
         "0.2926871834722815",
         "0.05",
         "This gene is differentially expressed. (Fail to reject H0)"
        ],
        [
         "35",
         "35",
         "1552289_a_at",
         "-0.0556368817384159",
         "0.9560596903961254",
         "0.05",
         "This gene is differentially expressed. (Fail to reject H0)"
        ],
        [
         "36",
         "36",
         "1552291_at",
         "0.5557765186542817",
         "0.584942971128183",
         "0.05",
         "This gene is differentially expressed. (Fail to reject H0)"
        ],
        [
         "37",
         "37",
         "1552293_at",
         "-1.4930746984082175",
         "0.1474823452022047",
         "0.05",
         "This gene is differentially expressed. (Fail to reject H0)"
        ],
        [
         "40",
         "40",
         "1552299_at",
         "-1.9760449514567215",
         "0.058894897964074",
         "0.05",
         "This gene is differentially expressed. (Fail to reject H0)"
        ],
        [
         "44",
         "44",
         "1552304_at",
         "1.865584192465905",
         "0.0734530102288279",
         "0.05",
         "This gene is differentially expressed. (Fail to reject H0)"
        ],
        [
         "48",
         "48",
         "1552310_at",
         "0.5485872557584907",
         "0.5879977763181221",
         "0.05",
         "This gene is differentially expressed. (Fail to reject H0)"
        ],
        [
         "49",
         "49",
         "1552311_a_at",
         "-1.8986861390078849",
         "0.0714120986814498",
         "0.05",
         "This gene is differentially expressed. (Fail to reject H0)"
        ],
        [
         "50",
         "50",
         "1552312_a_at",
         "1.2019062574526092",
         "0.2407245382821389",
         "0.05",
         "This gene is differentially expressed. (Fail to reject H0)"
        ],
        [
         "51",
         "51",
         "1552314_a_at",
         "0.932253010274788",
         "0.3628072312209069",
         "0.05",
         "This gene is differentially expressed. (Fail to reject H0)"
        ],
        [
         "55",
         "55",
         "1552319_a_at",
         "0.307040878988234",
         "0.7613694266209309",
         "0.05",
         "This gene is differentially expressed. (Fail to reject H0)"
        ],
        [
         "56",
         "56",
         "1552320_a_at",
         "-1.029156287664448",
         "0.3131497201810891",
         "0.05",
         "This gene is differentially expressed. (Fail to reject H0)"
        ],
        [
         "58",
         "58",
         "1552322_at",
         "1.9525193212697944",
         "0.0617251685208628",
         "0.05",
         "This gene is differentially expressed. (Fail to reject H0)"
        ],
        [
         "60",
         "60",
         "1552325_at",
         "-1.9920419365709228",
         "0.0594974381305963",
         "0.05",
         "This gene is differentially expressed. (Fail to reject H0)"
        ],
        [
         "62",
         "62",
         "1552327_at",
         "1.9890960167797536",
         "0.0574133411690525",
         "0.05",
         "This gene is differentially expressed. (Fail to reject H0)"
        ],
        [
         "63",
         "63",
         "1552329_at",
         "-1.3204979847058906",
         "0.1982331727636809",
         "0.05",
         "This gene is differentially expressed. (Fail to reject H0)"
        ],
        [
         "65",
         "65",
         "1552332_at",
         "0.1035425854653328",
         "0.9185308829568108",
         "0.05",
         "This gene is differentially expressed. (Fail to reject H0)"
        ],
        [
         "67",
         "67",
         "1552335_at",
         "1.4624696999417708",
         "0.1558111544509886",
         "0.05",
         "This gene is differentially expressed. (Fail to reject H0)"
        ],
        [
         "68",
         "68",
         "1552337_s_at",
         "1.0531033596222394",
         "0.3053562906897716",
         "0.05",
         "This gene is differentially expressed. (Fail to reject H0)"
        ],
        [
         "69",
         "69",
         "1552338_at",
         "-0.6899527936766575",
         "0.4979751107901612",
         "0.05",
         "This gene is differentially expressed. (Fail to reject H0)"
        ],
        [
         "70",
         "70",
         "1552340_at",
         "0.3835396129488813",
         "0.7045030730727513",
         "0.05",
         "This gene is differentially expressed. (Fail to reject H0)"
        ],
        [
         "72",
         "72",
         "1552344_s_at",
         "-0.5899251147336809",
         "0.5628838027775146",
         "0.05",
         "This gene is differentially expressed. (Fail to reject H0)"
        ],
        [
         "73",
         "73",
         "1552347_at",
         "0.4752043114406544",
         "0.6394001252875672",
         "0.05",
         "This gene is differentially expressed. (Fail to reject H0)"
        ],
        [
         "74",
         "74",
         "1552348_at",
         "0.2187066471174756",
         "0.8285917821865763",
         "0.05",
         "This gene is differentially expressed. (Fail to reject H0)"
        ],
        [
         "75",
         "75",
         "1552349_a_at",
         "-0.254785509567969",
         "0.800896355319699",
         "0.05",
         "This gene is differentially expressed. (Fail to reject H0)"
        ],
        [
         "76",
         "76",
         "1552354_at",
         "-0.2963009869250604",
         "0.7698981201009412",
         "0.05",
         "This gene is differentially expressed. (Fail to reject H0)"
        ],
        [
         "77",
         "77",
         "1552355_s_at",
         "-1.944120792464892",
         "0.0629815403695099",
         "0.05",
         "This gene is differentially expressed. (Fail to reject H0)"
        ],
        [
         "78",
         "78",
         "1552359_at",
         "0.2371699121176848",
         "0.814456441337111",
         "0.05",
         "This gene is differentially expressed. (Fail to reject H0)"
        ],
        [
         "80",
         "80",
         "1552362_a_at",
         "-1.3325323712151538",
         "0.2003245036550842",
         "0.05",
         "This gene is differentially expressed. (Fail to reject H0)"
        ],
        [
         "81",
         "81",
         "1552364_s_at",
         "1.9026069164695545",
         "0.0682365227915591",
         "0.05",
         "This gene is differentially expressed. (Fail to reject H0)"
        ],
        [
         "84",
         "84",
         "1552368_at",
         "0.2471344294316507",
         "0.8067467460350941",
         "0.05",
         "This gene is differentially expressed. (Fail to reject H0)"
        ],
        [
         "85",
         "85",
         "1552370_at",
         "0.1242059846645971",
         "0.9021094290696354",
         "0.05",
         "This gene is differentially expressed. (Fail to reject H0)"
        ],
        [
         "86",
         "86",
         "1552372_at",
         "-1.594276350969877",
         "0.1291046774809372",
         "0.05",
         "This gene is differentially expressed. (Fail to reject H0)"
        ],
        [
         "87",
         "87",
         "1552373_s_at",
         "-1.4216139858890564",
         "0.1670406183293949",
         "0.05",
         "This gene is differentially expressed. (Fail to reject H0)"
        ]
       ],
       "shape": {
        "columns": 6,
        "rows": 32215
       }
      },
      "text/html": [
       "<div>\n",
       "<style scoped>\n",
       "    .dataframe tbody tr th:only-of-type {\n",
       "        vertical-align: middle;\n",
       "    }\n",
       "\n",
       "    .dataframe tbody tr th {\n",
       "        vertical-align: top;\n",
       "    }\n",
       "\n",
       "    .dataframe thead th {\n",
       "        text-align: right;\n",
       "    }\n",
       "</style>\n",
       "<table border=\"1\" class=\"dataframe\">\n",
       "  <thead>\n",
       "    <tr style=\"text-align: right;\">\n",
       "      <th></th>\n",
       "      <th>Unnamed: 0</th>\n",
       "      <th>Gene</th>\n",
       "      <th>Statistics</th>\n",
       "      <th>p</th>\n",
       "      <th>alpha</th>\n",
       "      <th>Interpretation</th>\n",
       "    </tr>\n",
       "  </thead>\n",
       "  <tbody>\n",
       "    <tr>\n",
       "      <th>1</th>\n",
       "      <td>1</td>\n",
       "      <td>1053_at</td>\n",
       "      <td>1.957004</td>\n",
       "      <td>0.062349</td>\n",
       "      <td>0.05</td>\n",
       "      <td>This gene is differentially expressed. (Fail t...</td>\n",
       "    </tr>\n",
       "    <tr>\n",
       "      <th>2</th>\n",
       "      <td>2</td>\n",
       "      <td>117_at</td>\n",
       "      <td>1.820910</td>\n",
       "      <td>0.083952</td>\n",
       "      <td>0.05</td>\n",
       "      <td>This gene is differentially expressed. (Fail t...</td>\n",
       "    </tr>\n",
       "    <tr>\n",
       "      <th>3</th>\n",
       "      <td>3</td>\n",
       "      <td>121_at</td>\n",
       "      <td>1.287618</td>\n",
       "      <td>0.210809</td>\n",
       "      <td>0.05</td>\n",
       "      <td>This gene is differentially expressed. (Fail t...</td>\n",
       "    </tr>\n",
       "    <tr>\n",
       "      <th>4</th>\n",
       "      <td>4</td>\n",
       "      <td>1255_g_at</td>\n",
       "      <td>-1.336725</td>\n",
       "      <td>0.193472</td>\n",
       "      <td>0.05</td>\n",
       "      <td>This gene is differentially expressed. (Fail t...</td>\n",
       "    </tr>\n",
       "    <tr>\n",
       "      <th>10</th>\n",
       "      <td>10</td>\n",
       "      <td>1438_at</td>\n",
       "      <td>-0.766567</td>\n",
       "      <td>0.451564</td>\n",
       "      <td>0.05</td>\n",
       "      <td>This gene is differentially expressed. (Fail t...</td>\n",
       "    </tr>\n",
       "    <tr>\n",
       "      <th>...</th>\n",
       "      <td>...</td>\n",
       "      <td>...</td>\n",
       "      <td>...</td>\n",
       "      <td>...</td>\n",
       "      <td>...</td>\n",
       "      <td>...</td>\n",
       "    </tr>\n",
       "    <tr>\n",
       "      <th>54670</th>\n",
       "      <td>54670</td>\n",
       "      <td>AFFX-ThrX-5_at</td>\n",
       "      <td>0.214125</td>\n",
       "      <td>0.832698</td>\n",
       "      <td>0.05</td>\n",
       "      <td>This gene is differentially expressed. (Fail t...</td>\n",
       "    </tr>\n",
       "    <tr>\n",
       "      <th>54671</th>\n",
       "      <td>54671</td>\n",
       "      <td>AFFX-ThrX-M_at</td>\n",
       "      <td>-0.978432</td>\n",
       "      <td>0.341105</td>\n",
       "      <td>0.05</td>\n",
       "      <td>This gene is differentially expressed. (Fail t...</td>\n",
       "    </tr>\n",
       "    <tr>\n",
       "      <th>54672</th>\n",
       "      <td>54672</td>\n",
       "      <td>AFFX-TrpnX-3_at</td>\n",
       "      <td>-0.522645</td>\n",
       "      <td>0.607984</td>\n",
       "      <td>0.05</td>\n",
       "      <td>This gene is differentially expressed. (Fail t...</td>\n",
       "    </tr>\n",
       "    <tr>\n",
       "      <th>54673</th>\n",
       "      <td>54673</td>\n",
       "      <td>AFFX-TrpnX-5_at</td>\n",
       "      <td>0.154456</td>\n",
       "      <td>0.878460</td>\n",
       "      <td>0.05</td>\n",
       "      <td>This gene is differentially expressed. (Fail t...</td>\n",
       "    </tr>\n",
       "    <tr>\n",
       "      <th>54674</th>\n",
       "      <td>54674</td>\n",
       "      <td>AFFX-TrpnX-M_at</td>\n",
       "      <td>-1.411216</td>\n",
       "      <td>0.178119</td>\n",
       "      <td>0.05</td>\n",
       "      <td>This gene is differentially expressed. (Fail t...</td>\n",
       "    </tr>\n",
       "  </tbody>\n",
       "</table>\n",
       "<p>32215 rows × 6 columns</p>\n",
       "</div>"
      ],
      "text/plain": [
       "       Unnamed: 0             Gene  Statistics         p  alpha  \\\n",
       "1               1          1053_at    1.957004  0.062349   0.05   \n",
       "2               2           117_at    1.820910  0.083952   0.05   \n",
       "3               3           121_at    1.287618  0.210809   0.05   \n",
       "4               4        1255_g_at   -1.336725  0.193472   0.05   \n",
       "10             10          1438_at   -0.766567  0.451564   0.05   \n",
       "...           ...              ...         ...       ...    ...   \n",
       "54670       54670   AFFX-ThrX-5_at    0.214125  0.832698   0.05   \n",
       "54671       54671   AFFX-ThrX-M_at   -0.978432  0.341105   0.05   \n",
       "54672       54672  AFFX-TrpnX-3_at   -0.522645  0.607984   0.05   \n",
       "54673       54673  AFFX-TrpnX-5_at    0.154456  0.878460   0.05   \n",
       "54674       54674  AFFX-TrpnX-M_at   -1.411216  0.178119   0.05   \n",
       "\n",
       "                                          Interpretation  \n",
       "1      This gene is differentially expressed. (Fail t...  \n",
       "2      This gene is differentially expressed. (Fail t...  \n",
       "3      This gene is differentially expressed. (Fail t...  \n",
       "4      This gene is differentially expressed. (Fail t...  \n",
       "10     This gene is differentially expressed. (Fail t...  \n",
       "...                                                  ...  \n",
       "54670  This gene is differentially expressed. (Fail t...  \n",
       "54671  This gene is differentially expressed. (Fail t...  \n",
       "54672  This gene is differentially expressed. (Fail t...  \n",
       "54673  This gene is differentially expressed. (Fail t...  \n",
       "54674  This gene is differentially expressed. (Fail t...  \n",
       "\n",
       "[32215 rows x 6 columns]"
      ]
     },
     "execution_count": 175,
     "metadata": {},
     "output_type": "execute_result"
    }
   ],
   "source": [
    "df_stats_sig_pilo_astrocytoma = extract_stat_sig(df_stats_pilocytic_astrocytoma)\n",
    "\n",
    "df_stats_sig_pilo_astrocytoma"
   ]
  },
  {
   "cell_type": "markdown",
   "metadata": {},
   "source": [
    "We can check the number by checking the countplots that we generated in the previous phase, just to make sure that we choose the right data to select."
   ]
  },
  {
   "cell_type": "markdown",
   "metadata": {},
   "source": [
    "## Calculation of Increased or Decreased Gene Expression\n",
    "\n",
    "In order to understand which statistically significant genes have increased or decreased gene expression, we need to analyze the t-test that we calculated in the previous phase. \n",
    "\n",
    "Generally, we would calculate fold-change for the gene expression. However, in our current dataset the values that are listed under each genes are not counts of RNA transcripts for each of the genes and are rather gene expression data from multiple sources of DNA microarrays. From the published paper, the authors stated that very high values of gene expression were interpreted as 'high gene expression' and negative or low values of gene expression were interpreted as 'low gene expression'. Quickly looking at the original data, we see that there are no negative values.\n",
    "\n",
    "Looking at the statistics that we calculated, the t-test has both negative and positive values. The sign of the t-test statistic is not relevant to the level of significance (in most cases, people will only take the absolute value of the t-statistic), but rather defines which group has the lower mean (if the value is negative, this means that the first group has a lower mean than the second group). In the Wlech's t-test function that we program, the first group given is the experimental group (cancer) and the second group is the control group (healthy). This means we can interprete a negative Welch's t-test value as a reversal of the directionalty of the effect (gene expression) being studied, or that gene expression is lower in the experimental group compared to the control group. "
   ]
  },
  {
   "cell_type": "code",
   "execution_count": 176,
   "metadata": {},
   "outputs": [],
   "source": [
    "# First let's grab the statistics only from these 4 dataframes with the associated gene names\n",
    "selection = ['Gene', 'Statistics']\n",
    "\n",
    "# Ependymoma\n",
    "df_expression_ependymoma = df_stats_sig_ependymoma[selection]\n",
    "\n",
    "# Glioblastoma\n",
    "df_expression_glioblastoma = df_stats_sig_glioblastoma[selection]\n",
    "\n",
    "# Medulloblastoma\n",
    "df_expression_medulloblastoma = df_stats_sig_medulloblastoma[selection]\n",
    "\n",
    "# Pilocytic Astrocytoma\n",
    "df_expression_pilo_astro = df_stats_sig_pilo_astrocytoma[selection]\n"
   ]
  },
  {
   "cell_type": "markdown",
   "metadata": {},
   "source": [
    "We can check that the selection worked:"
   ]
  },
  {
   "cell_type": "code",
   "execution_count": 177,
   "metadata": {},
   "outputs": [
    {
     "data": {
      "application/vnd.microsoft.datawrangler.viewer.v0+json": {
       "columns": [
        {
         "name": "index",
         "rawType": "int64",
         "type": "integer"
        },
        {
         "name": "Gene",
         "rawType": "object",
         "type": "string"
        },
        {
         "name": "Statistics",
         "rawType": "float64",
         "type": "float"
        }
       ],
       "ref": "68e3d58e-8ffc-4cc6-85a9-88309a1dda5b",
       "rows": [
        [
         "0",
         "1007_s_at",
         "-0.6165886754336338"
        ],
        [
         "2",
         "117_at",
         "-0.4732234112021191"
        ],
        [
         "3",
         "121_at",
         "-0.596744068820451"
        ],
        [
         "5",
         "1294_at",
         "-0.7651274989483163"
        ],
        [
         "8",
         "1405_i_at",
         "0.2721989564176214"
        ],
        [
         "10",
         "1438_at",
         "-2.039421223706055"
        ],
        [
         "12",
         "1494_f_at",
         "-1.740753297471402"
        ],
        [
         "15",
         "1552258_at",
         "0.8830966945465757"
        ],
        [
         "16",
         "1552261_at",
         "-0.6731751606114105"
        ],
        [
         "17",
         "1552263_at",
         "1.2867588863009862"
        ],
        [
         "18",
         "1552264_a_at",
         "-0.2313175860428477"
        ],
        [
         "25",
         "1552276_a_at",
         "-1.084691291390907"
        ],
        [
         "27",
         "1552278_a_at",
         "0.3979757466656743"
        ],
        [
         "29",
         "1552280_at",
         "0.3465610119988022"
        ],
        [
         "30",
         "1552281_at",
         "1.7842854379607749"
        ],
        [
         "32",
         "1552286_at",
         "0.2211866387192591"
        ],
        [
         "34",
         "1552288_at",
         "1.3484480544687238"
        ],
        [
         "36",
         "1552291_at",
         "-1.9910099703045432"
        ],
        [
         "39",
         "1552296_at",
         "-0.075617232993679"
        ],
        [
         "42",
         "1552302_at",
         "0.3294781512186204"
        ],
        [
         "43",
         "1552303_a_at",
         "-1.1133213928974028"
        ],
        [
         "46",
         "1552307_a_at",
         "1.79683877723159"
        ],
        [
         "47",
         "1552309_a_at",
         "-0.8551213288768728"
        ],
        [
         "48",
         "1552310_at",
         "1.5666150990594767"
        ],
        [
         "49",
         "1552311_a_at",
         "-0.2042237982792976"
        ],
        [
         "51",
         "1552314_a_at",
         "1.033526476244984"
        ],
        [
         "52",
         "1552315_at",
         "-0.4803268521444507"
        ],
        [
         "54",
         "1552318_at",
         "-0.9220431826874096"
        ],
        [
         "55",
         "1552319_a_at",
         "-0.0556470209741804"
        ],
        [
         "57",
         "1552321_a_at",
         "-1.040719290439362"
        ],
        [
         "60",
         "1552325_at",
         "-1.330415658465785"
        ],
        [
         "62",
         "1552327_at",
         "1.7584789571753543"
        ],
        [
         "63",
         "1552329_at",
         "0.6164011725262246"
        ],
        [
         "65",
         "1552332_at",
         "0.6939465451028305"
        ],
        [
         "68",
         "1552337_s_at",
         "-0.2418943855386182"
        ],
        [
         "69",
         "1552338_at",
         "-0.4831799720640883"
        ],
        [
         "70",
         "1552340_at",
         "-1.2082100362807522"
        ],
        [
         "71",
         "1552343_s_at",
         "1.2119794343210537"
        ],
        [
         "74",
         "1552348_at",
         "-1.0309564643026372"
        ],
        [
         "75",
         "1552349_a_at",
         "-0.4459247228292984"
        ],
        [
         "76",
         "1552354_at",
         "-0.487522373472927"
        ],
        [
         "80",
         "1552362_a_at",
         "2.03496844372987"
        ],
        [
         "82",
         "1552365_at",
         "-1.7553133799856582"
        ],
        [
         "83",
         "1552367_a_at",
         "-1.1362364051809049"
        ],
        [
         "84",
         "1552368_at",
         "0.8627718782263379"
        ],
        [
         "86",
         "1552372_at",
         "0.021669365715661"
        ],
        [
         "87",
         "1552373_s_at",
         "-0.6973727367746883"
        ],
        [
         "89",
         "1552377_s_at",
         "0.3347604241229918"
        ],
        [
         "91",
         "1552379_at",
         "-0.6864955142224833"
        ],
        [
         "94",
         "1552384_a_at",
         "-1.2721438886479302"
        ]
       ],
       "shape": {
        "columns": 2,
        "rows": 31044
       }
      },
      "text/html": [
       "<div>\n",
       "<style scoped>\n",
       "    .dataframe tbody tr th:only-of-type {\n",
       "        vertical-align: middle;\n",
       "    }\n",
       "\n",
       "    .dataframe tbody tr th {\n",
       "        vertical-align: top;\n",
       "    }\n",
       "\n",
       "    .dataframe thead th {\n",
       "        text-align: right;\n",
       "    }\n",
       "</style>\n",
       "<table border=\"1\" class=\"dataframe\">\n",
       "  <thead>\n",
       "    <tr style=\"text-align: right;\">\n",
       "      <th></th>\n",
       "      <th>Gene</th>\n",
       "      <th>Statistics</th>\n",
       "    </tr>\n",
       "  </thead>\n",
       "  <tbody>\n",
       "    <tr>\n",
       "      <th>0</th>\n",
       "      <td>1007_s_at</td>\n",
       "      <td>-0.616589</td>\n",
       "    </tr>\n",
       "    <tr>\n",
       "      <th>2</th>\n",
       "      <td>117_at</td>\n",
       "      <td>-0.473223</td>\n",
       "    </tr>\n",
       "    <tr>\n",
       "      <th>3</th>\n",
       "      <td>121_at</td>\n",
       "      <td>-0.596744</td>\n",
       "    </tr>\n",
       "    <tr>\n",
       "      <th>5</th>\n",
       "      <td>1294_at</td>\n",
       "      <td>-0.765127</td>\n",
       "    </tr>\n",
       "    <tr>\n",
       "      <th>8</th>\n",
       "      <td>1405_i_at</td>\n",
       "      <td>0.272199</td>\n",
       "    </tr>\n",
       "    <tr>\n",
       "      <th>...</th>\n",
       "      <td>...</td>\n",
       "      <td>...</td>\n",
       "    </tr>\n",
       "    <tr>\n",
       "      <th>54670</th>\n",
       "      <td>AFFX-ThrX-5_at</td>\n",
       "      <td>-1.131039</td>\n",
       "    </tr>\n",
       "    <tr>\n",
       "      <th>54671</th>\n",
       "      <td>AFFX-ThrX-M_at</td>\n",
       "      <td>-0.397812</td>\n",
       "    </tr>\n",
       "    <tr>\n",
       "      <th>54672</th>\n",
       "      <td>AFFX-TrpnX-3_at</td>\n",
       "      <td>-0.233311</td>\n",
       "    </tr>\n",
       "    <tr>\n",
       "      <th>54673</th>\n",
       "      <td>AFFX-TrpnX-5_at</td>\n",
       "      <td>1.387282</td>\n",
       "    </tr>\n",
       "    <tr>\n",
       "      <th>54674</th>\n",
       "      <td>AFFX-TrpnX-M_at</td>\n",
       "      <td>-1.315359</td>\n",
       "    </tr>\n",
       "  </tbody>\n",
       "</table>\n",
       "<p>31044 rows × 2 columns</p>\n",
       "</div>"
      ],
      "text/plain": [
       "                  Gene  Statistics\n",
       "0            1007_s_at   -0.616589\n",
       "2               117_at   -0.473223\n",
       "3               121_at   -0.596744\n",
       "5              1294_at   -0.765127\n",
       "8            1405_i_at    0.272199\n",
       "...                ...         ...\n",
       "54670   AFFX-ThrX-5_at   -1.131039\n",
       "54671   AFFX-ThrX-M_at   -0.397812\n",
       "54672  AFFX-TrpnX-3_at   -0.233311\n",
       "54673  AFFX-TrpnX-5_at    1.387282\n",
       "54674  AFFX-TrpnX-M_at   -1.315359\n",
       "\n",
       "[31044 rows x 2 columns]"
      ]
     },
     "execution_count": 177,
     "metadata": {},
     "output_type": "execute_result"
    }
   ],
   "source": [
    "df_expression_medulloblastoma"
   ]
  },
  {
   "cell_type": "markdown",
   "metadata": {},
   "source": [
    "We are just going to rename the statistics column with the cancer group. Let's do it for the other dataframes too."
   ]
  },
  {
   "cell_type": "code",
   "execution_count": 178,
   "metadata": {},
   "outputs": [
    {
     "name": "stderr",
     "output_type": "stream",
     "text": [
      "/var/folders/6r/nx6jkx254q31jrf83vmvvwhw0000gn/T/ipykernel_4434/1206878548.py:1: SettingWithCopyWarning: \n",
      "A value is trying to be set on a copy of a slice from a DataFrame\n",
      "\n",
      "See the caveats in the documentation: https://pandas.pydata.org/pandas-docs/stable/user_guide/indexing.html#returning-a-view-versus-a-copy\n",
      "  df_expression_ependymoma.rename(columns = {'Statistics': 'Statistics Ependymoma'}, inplace = True)\n",
      "/var/folders/6r/nx6jkx254q31jrf83vmvvwhw0000gn/T/ipykernel_4434/1206878548.py:3: SettingWithCopyWarning: \n",
      "A value is trying to be set on a copy of a slice from a DataFrame\n",
      "\n",
      "See the caveats in the documentation: https://pandas.pydata.org/pandas-docs/stable/user_guide/indexing.html#returning-a-view-versus-a-copy\n",
      "  df_expression_medulloblastoma.rename(columns = {'Statistics': 'Statistics Medulloblastoma'}, inplace = True)\n",
      "/var/folders/6r/nx6jkx254q31jrf83vmvvwhw0000gn/T/ipykernel_4434/1206878548.py:5: SettingWithCopyWarning: \n",
      "A value is trying to be set on a copy of a slice from a DataFrame\n",
      "\n",
      "See the caveats in the documentation: https://pandas.pydata.org/pandas-docs/stable/user_guide/indexing.html#returning-a-view-versus-a-copy\n",
      "  df_expression_glioblastoma.rename(columns = {'Statistics': 'Statistics Glioblastoma'}, inplace = True)\n",
      "/var/folders/6r/nx6jkx254q31jrf83vmvvwhw0000gn/T/ipykernel_4434/1206878548.py:7: SettingWithCopyWarning: \n",
      "A value is trying to be set on a copy of a slice from a DataFrame\n",
      "\n",
      "See the caveats in the documentation: https://pandas.pydata.org/pandas-docs/stable/user_guide/indexing.html#returning-a-view-versus-a-copy\n",
      "  df_expression_pilo_astro.rename(columns = {'Statistics': 'Statistics Pilocytic Astrocytoma'}, inplace = True)\n"
     ]
    }
   ],
   "source": [
    "df_expression_ependymoma.rename(columns = {'Statistics': 'Statistics Ependymoma'}, inplace = True)\n",
    "\n",
    "df_expression_medulloblastoma.rename(columns = {'Statistics': 'Statistics Medulloblastoma'}, inplace = True)\n",
    "\n",
    "df_expression_glioblastoma.rename(columns = {'Statistics': 'Statistics Glioblastoma'}, inplace = True)\n",
    "\n",
    "df_expression_pilo_astro.rename(columns = {'Statistics': 'Statistics Pilocytic Astrocytoma'}, inplace = True)"
   ]
  },
  {
   "cell_type": "code",
   "execution_count": 179,
   "metadata": {},
   "outputs": [],
   "source": [
    "dfs = [df_expression_ependymoma, df_expression_glioblastoma[\"Statistics Glioblastoma\"], df_expression_medulloblastoma[\"Statistics Medulloblastoma\"], df_expression_pilo_astro[\"Statistics Pilocytic Astrocytoma\"]]\n",
    "data = pd.concat(dfs, axis =1)"
   ]
  },
  {
   "cell_type": "code",
   "execution_count": 180,
   "metadata": {},
   "outputs": [
    {
     "data": {
      "application/vnd.microsoft.datawrangler.viewer.v0+json": {
       "columns": [
        {
         "name": "index",
         "rawType": "int64",
         "type": "integer"
        },
        {
         "name": "Gene",
         "rawType": "object",
         "type": "unknown"
        },
        {
         "name": "Statistics Ependymoma",
         "rawType": "float64",
         "type": "float"
        },
        {
         "name": "Statistics Glioblastoma",
         "rawType": "float64",
         "type": "float"
        },
        {
         "name": "Statistics Medulloblastoma",
         "rawType": "float64",
         "type": "float"
        },
        {
         "name": "Statistics Pilocytic Astrocytoma",
         "rawType": "float64",
         "type": "float"
        }
       ],
       "ref": "400124cd-8c1b-43dc-ae52-c6c5fc294a5f",
       "rows": [
        [
         "3",
         "121_at",
         "0.8714609204541289",
         "1.047483171849502",
         "-0.596744068820451",
         "1.2876179100983822"
        ],
        [
         "10",
         "1438_at",
         "-0.773455861311552",
         null,
         "-2.039421223706055",
         "-0.7665668864723854"
        ],
        [
         "12",
         "1494_f_at",
         "-1.9618190036574368",
         "-0.7486272931536818",
         "-1.740753297471402",
         "1.3072745543439857"
        ],
        [
         "15",
         "1552258_at",
         "0.6860808852756444",
         null,
         "0.8830966945465757",
         null
        ],
        [
         "16",
         "1552261_at",
         "-0.2765357811324795",
         "-0.432345710787287",
         "-0.6731751606114105",
         "-0.3229910059383726"
        ],
        [
         "17",
         "1552263_at",
         "1.1493631204992898",
         null,
         "1.2867588863009862",
         null
        ],
        [
         "18",
         "1552264_a_at",
         "1.0348622311341775",
         "0.3636703420534294",
         "-0.2313175860428477",
         "0.0264235179147117"
        ],
        [
         "21",
         "1552271_at",
         "0.9912986559017872",
         null,
         null,
         "0.6680190775691149"
        ],
        [
         "22",
         "1552272_a_at",
         "1.93445820311835",
         null,
         null,
         null
        ],
        [
         "25",
         "1552276_a_at",
         "-0.3072307820078748",
         "-1.1378692115956794",
         "-1.084691291390907",
         "-0.5027550660366921"
        ],
        [
         "27",
         "1552278_a_at",
         "1.6530579615381118",
         "0.146501551099819",
         "0.3979757466656743",
         "0.9902401363415874"
        ],
        [
         "29",
         "1552280_at",
         "1.3515173274070251",
         "1.3908877356268747",
         "0.3465610119988022",
         "1.086105390800825"
        ],
        [
         "30",
         "1552281_at",
         "1.0848846510683383",
         null,
         "1.7842854379607749",
         null
        ],
        [
         "31",
         "1552283_s_at",
         "-1.5520947985931024",
         null,
         null,
         null
        ],
        [
         "32",
         "1552286_at",
         "1.2733994382952816",
         null,
         "0.2211866387192591",
         "-0.1264323965714119"
        ],
        [
         "33",
         "1552287_s_at",
         "1.3669722122764365",
         "1.7979224758375345",
         null,
         "0.8062164336037294"
        ],
        [
         "34",
         "1552288_at",
         "-0.1129917623720171",
         "-0.2520073920591421",
         "1.3484480544687238",
         "-1.0758790204039792"
        ],
        [
         "35",
         "1552289_a_at",
         "1.1665877153924369",
         "1.165100882724002",
         null,
         "-0.0556368817384159"
        ],
        [
         "36",
         "1552291_at",
         "0.771981724737433",
         "0.5383903185105345",
         "-1.9910099703045432",
         "0.5557765186542817"
        ],
        [
         "43",
         "1552303_a_at",
         "1.4548990543042128",
         "1.5260497531335415",
         "-1.1133213928974028",
         null
        ],
        [
         "46",
         "1552307_a_at",
         "1.7186838093084982",
         null,
         "1.79683877723159",
         null
        ],
        [
         "47",
         "1552309_a_at",
         "1.841603046710233",
         "1.4215819245296628",
         "-0.8551213288768728",
         null
        ],
        [
         "48",
         "1552310_at",
         "1.9174770353564063",
         "1.2771694074346684",
         "1.5666150990594767",
         "0.5485872557584907"
        ],
        [
         "51",
         "1552314_a_at",
         "1.4311125410289172",
         null,
         "1.033526476244984",
         "0.932253010274788"
        ],
        [
         "52",
         "1552315_at",
         "1.3299461953490015",
         "1.731160509578113",
         "-0.4803268521444507",
         null
        ],
        [
         "53",
         "1552316_a_at",
         "-0.727768730626171",
         "0.8233909224538383",
         null,
         null
        ],
        [
         "55",
         "1552319_a_at",
         "-0.9886824200315424",
         "-0.9965137130210484",
         "-0.0556470209741804",
         "0.307040878988234"
        ],
        [
         "62",
         "1552327_at",
         "-0.520767962808127",
         "1.1144891721961705",
         "1.7584789571753543",
         "1.9890960167797536"
        ],
        [
         "63",
         "1552329_at",
         "0.5126288455490848",
         "-0.5778727255266546",
         "0.6164011725262246",
         "-1.3204979847058906"
        ],
        [
         "64",
         "1552330_at",
         "1.8497612949160105",
         "0.929565578475103",
         null,
         null
        ],
        [
         "65",
         "1552332_at",
         "1.648379966051173",
         "0.6281563825227581",
         "0.6939465451028305",
         "0.1035425854653328"
        ],
        [
         "67",
         "1552335_at",
         "2.0506386366366853",
         null,
         null,
         "1.4624696999417708"
        ],
        [
         "69",
         "1552338_at",
         "0.3030102021276613",
         "1.0907595753536017",
         "-0.4831799720640883",
         "-0.6899527936766575"
        ],
        [
         "72",
         "1552344_s_at",
         "-0.0170170991664297",
         "0.938937405931011",
         null,
         "-0.5899251147336809"
        ],
        [
         "74",
         "1552348_at",
         "0.7672825456626132",
         "0.2782881198882671",
         "-1.0309564643026372",
         "0.2187066471174756"
        ],
        [
         "75",
         "1552349_a_at",
         "1.139281352521461",
         "0.0175021496737663",
         "-0.4459247228292984",
         "-0.254785509567969"
        ],
        [
         "76",
         "1552354_at",
         "-0.7309132292691479",
         "0.1317691255845599",
         "-0.487522373472927",
         "-0.2963009869250604"
        ],
        [
         "78",
         "1552359_at",
         "1.1910942162310314",
         "0.4906391595576931",
         null,
         "0.2371699121176848"
        ],
        [
         "80",
         "1552362_a_at",
         "-0.1994509423928266",
         "0.9826574698419908",
         "2.03496844372987",
         "-1.3325323712151538"
        ],
        [
         "84",
         "1552368_at",
         "1.5189015974272897",
         "0.1520749834349227",
         "0.8627718782263379",
         "0.2471344294316507"
        ],
        [
         "86",
         "1552372_at",
         "-0.3556400920207989",
         "0.2048447224105234",
         "0.021669365715661",
         "-1.594276350969877"
        ],
        [
         "87",
         "1552373_s_at",
         "1.331197053740778",
         "-0.6235948675467193",
         "-0.6973727367746883",
         "-1.4216139858890564"
        ],
        [
         "88",
         "1552375_at",
         "1.1403708330446156",
         null,
         null,
         "1.737277518691157"
        ],
        [
         "89",
         "1552377_s_at",
         "1.39879643595495",
         "1.4335817343645452",
         "0.3347604241229918",
         "1.8260032932082009"
        ],
        [
         "91",
         "1552379_at",
         "-1.466678675616485",
         "-1.726080490016325",
         "-0.6864955142224833",
         "-1.0529962019823669"
        ],
        [
         "92",
         "1552381_at",
         "-0.4491935308860243",
         "-1.2424814156978026",
         null,
         null
        ],
        [
         "94",
         "1552384_a_at",
         "-1.5782635834466567",
         "-1.1237982723855255",
         "-1.2721438886479302",
         null
        ],
        [
         "99",
         "1552391_at",
         "-2.112265385762746",
         null,
         "-1.042548615133177",
         "-1.9766034503396743"
        ],
        [
         "100",
         "1552393_at",
         "-1.7583075211894836",
         "-1.5500130185280978",
         "-1.388594464859506",
         "-1.7068788615889616"
        ],
        [
         "102",
         "1552395_at",
         "0.6790075464039287",
         "0.7725761264237054",
         "0.1725390448234819",
         "0.8590912123510379"
        ]
       ],
       "shape": {
        "columns": 5,
        "rows": 44588
       }
      },
      "text/html": [
       "<div>\n",
       "<style scoped>\n",
       "    .dataframe tbody tr th:only-of-type {\n",
       "        vertical-align: middle;\n",
       "    }\n",
       "\n",
       "    .dataframe tbody tr th {\n",
       "        vertical-align: top;\n",
       "    }\n",
       "\n",
       "    .dataframe thead th {\n",
       "        text-align: right;\n",
       "    }\n",
       "</style>\n",
       "<table border=\"1\" class=\"dataframe\">\n",
       "  <thead>\n",
       "    <tr style=\"text-align: right;\">\n",
       "      <th></th>\n",
       "      <th>Gene</th>\n",
       "      <th>Statistics Ependymoma</th>\n",
       "      <th>Statistics Glioblastoma</th>\n",
       "      <th>Statistics Medulloblastoma</th>\n",
       "      <th>Statistics Pilocytic Astrocytoma</th>\n",
       "    </tr>\n",
       "  </thead>\n",
       "  <tbody>\n",
       "    <tr>\n",
       "      <th>3</th>\n",
       "      <td>121_at</td>\n",
       "      <td>0.871461</td>\n",
       "      <td>1.047483</td>\n",
       "      <td>-0.596744</td>\n",
       "      <td>1.287618</td>\n",
       "    </tr>\n",
       "    <tr>\n",
       "      <th>10</th>\n",
       "      <td>1438_at</td>\n",
       "      <td>-0.773456</td>\n",
       "      <td>NaN</td>\n",
       "      <td>-2.039421</td>\n",
       "      <td>-0.766567</td>\n",
       "    </tr>\n",
       "    <tr>\n",
       "      <th>12</th>\n",
       "      <td>1494_f_at</td>\n",
       "      <td>-1.961819</td>\n",
       "      <td>-0.748627</td>\n",
       "      <td>-1.740753</td>\n",
       "      <td>1.307275</td>\n",
       "    </tr>\n",
       "    <tr>\n",
       "      <th>15</th>\n",
       "      <td>1552258_at</td>\n",
       "      <td>0.686081</td>\n",
       "      <td>NaN</td>\n",
       "      <td>0.883097</td>\n",
       "      <td>NaN</td>\n",
       "    </tr>\n",
       "    <tr>\n",
       "      <th>16</th>\n",
       "      <td>1552261_at</td>\n",
       "      <td>-0.276536</td>\n",
       "      <td>-0.432346</td>\n",
       "      <td>-0.673175</td>\n",
       "      <td>-0.322991</td>\n",
       "    </tr>\n",
       "    <tr>\n",
       "      <th>...</th>\n",
       "      <td>...</td>\n",
       "      <td>...</td>\n",
       "      <td>...</td>\n",
       "      <td>...</td>\n",
       "      <td>...</td>\n",
       "    </tr>\n",
       "    <tr>\n",
       "      <th>54551</th>\n",
       "      <td>NaN</td>\n",
       "      <td>NaN</td>\n",
       "      <td>NaN</td>\n",
       "      <td>NaN</td>\n",
       "      <td>0.612752</td>\n",
       "    </tr>\n",
       "    <tr>\n",
       "      <th>54578</th>\n",
       "      <td>NaN</td>\n",
       "      <td>NaN</td>\n",
       "      <td>NaN</td>\n",
       "      <td>NaN</td>\n",
       "      <td>0.042992</td>\n",
       "    </tr>\n",
       "    <tr>\n",
       "      <th>54620</th>\n",
       "      <td>NaN</td>\n",
       "      <td>NaN</td>\n",
       "      <td>NaN</td>\n",
       "      <td>NaN</td>\n",
       "      <td>-2.002087</td>\n",
       "    </tr>\n",
       "    <tr>\n",
       "      <th>54621</th>\n",
       "      <td>NaN</td>\n",
       "      <td>NaN</td>\n",
       "      <td>NaN</td>\n",
       "      <td>NaN</td>\n",
       "      <td>-1.701551</td>\n",
       "    </tr>\n",
       "    <tr>\n",
       "      <th>54628</th>\n",
       "      <td>NaN</td>\n",
       "      <td>NaN</td>\n",
       "      <td>NaN</td>\n",
       "      <td>NaN</td>\n",
       "      <td>-1.915699</td>\n",
       "    </tr>\n",
       "  </tbody>\n",
       "</table>\n",
       "<p>44588 rows × 5 columns</p>\n",
       "</div>"
      ],
      "text/plain": [
       "             Gene  Statistics Ependymoma  Statistics Glioblastoma  \\\n",
       "3          121_at               0.871461                 1.047483   \n",
       "10        1438_at              -0.773456                      NaN   \n",
       "12      1494_f_at              -1.961819                -0.748627   \n",
       "15     1552258_at               0.686081                      NaN   \n",
       "16     1552261_at              -0.276536                -0.432346   \n",
       "...           ...                    ...                      ...   \n",
       "54551         NaN                    NaN                      NaN   \n",
       "54578         NaN                    NaN                      NaN   \n",
       "54620         NaN                    NaN                      NaN   \n",
       "54621         NaN                    NaN                      NaN   \n",
       "54628         NaN                    NaN                      NaN   \n",
       "\n",
       "       Statistics Medulloblastoma  Statistics Pilocytic Astrocytoma  \n",
       "3                       -0.596744                          1.287618  \n",
       "10                      -2.039421                         -0.766567  \n",
       "12                      -1.740753                          1.307275  \n",
       "15                       0.883097                               NaN  \n",
       "16                      -0.673175                         -0.322991  \n",
       "...                           ...                               ...  \n",
       "54551                         NaN                          0.612752  \n",
       "54578                         NaN                          0.042992  \n",
       "54620                         NaN                         -2.002087  \n",
       "54621                         NaN                         -1.701551  \n",
       "54628                         NaN                         -1.915699  \n",
       "\n",
       "[44588 rows x 5 columns]"
      ]
     },
     "execution_count": 180,
     "metadata": {},
     "output_type": "execute_result"
    }
   ],
   "source": [
    "data"
   ]
  },
  {
   "cell_type": "code",
   "execution_count": 181,
   "metadata": {},
   "outputs": [
    {
     "data": {
      "application/vnd.microsoft.datawrangler.viewer.v0+json": {
       "columns": [
        {
         "name": "index",
         "rawType": "int64",
         "type": "integer"
        },
        {
         "name": "Gene",
         "rawType": "object",
         "type": "unknown"
        },
        {
         "name": "Statistics Ependymoma",
         "rawType": "float64",
         "type": "float"
        },
        {
         "name": "Statistics Glioblastoma",
         "rawType": "float64",
         "type": "float"
        },
        {
         "name": "Statistics Medulloblastoma",
         "rawType": "float64",
         "type": "float"
        },
        {
         "name": "Statistics Pilocytic Astrocytoma",
         "rawType": "float64",
         "type": "float"
        }
       ],
       "ref": "dbc9c756-06d3-4dfc-8135-94e2e420a9ee",
       "rows": [
        [
         "3",
         "121_at",
         "0.8714609204541289",
         "1.047483171849502",
         "-0.596744068820451",
         "1.2876179100983822"
        ],
        [
         "10",
         "1438_at",
         "-0.773455861311552",
         "0.0",
         "-2.039421223706055",
         "-0.7665668864723854"
        ],
        [
         "12",
         "1494_f_at",
         "-1.9618190036574368",
         "-0.7486272931536818",
         "-1.740753297471402",
         "1.3072745543439857"
        ],
        [
         "15",
         "1552258_at",
         "0.6860808852756444",
         "0.0",
         "0.8830966945465757",
         "0.0"
        ],
        [
         "16",
         "1552261_at",
         "-0.2765357811324795",
         "-0.432345710787287",
         "-0.6731751606114105",
         "-0.3229910059383726"
        ],
        [
         "17",
         "1552263_at",
         "1.1493631204992898",
         "0.0",
         "1.2867588863009862",
         "0.0"
        ],
        [
         "18",
         "1552264_a_at",
         "1.0348622311341775",
         "0.3636703420534294",
         "-0.2313175860428477",
         "0.0264235179147117"
        ],
        [
         "21",
         "1552271_at",
         "0.9912986559017872",
         "0.0",
         "0.0",
         "0.6680190775691149"
        ],
        [
         "22",
         "1552272_a_at",
         "1.93445820311835",
         "0.0",
         "0.0",
         "0.0"
        ],
        [
         "25",
         "1552276_a_at",
         "-0.3072307820078748",
         "-1.1378692115956794",
         "-1.084691291390907",
         "-0.5027550660366921"
        ],
        [
         "27",
         "1552278_a_at",
         "1.6530579615381118",
         "0.146501551099819",
         "0.3979757466656743",
         "0.9902401363415874"
        ],
        [
         "29",
         "1552280_at",
         "1.3515173274070251",
         "1.3908877356268747",
         "0.3465610119988022",
         "1.086105390800825"
        ],
        [
         "30",
         "1552281_at",
         "1.0848846510683383",
         "0.0",
         "1.7842854379607749",
         "0.0"
        ],
        [
         "31",
         "1552283_s_at",
         "-1.5520947985931024",
         "0.0",
         "0.0",
         "0.0"
        ],
        [
         "32",
         "1552286_at",
         "1.2733994382952816",
         "0.0",
         "0.2211866387192591",
         "-0.1264323965714119"
        ],
        [
         "33",
         "1552287_s_at",
         "1.3669722122764365",
         "1.7979224758375345",
         "0.0",
         "0.8062164336037294"
        ],
        [
         "34",
         "1552288_at",
         "-0.1129917623720171",
         "-0.2520073920591421",
         "1.3484480544687238",
         "-1.0758790204039792"
        ],
        [
         "35",
         "1552289_a_at",
         "1.1665877153924369",
         "1.165100882724002",
         "0.0",
         "-0.0556368817384159"
        ],
        [
         "36",
         "1552291_at",
         "0.771981724737433",
         "0.5383903185105345",
         "-1.9910099703045432",
         "0.5557765186542817"
        ],
        [
         "43",
         "1552303_a_at",
         "1.4548990543042128",
         "1.5260497531335415",
         "-1.1133213928974028",
         "0.0"
        ],
        [
         "46",
         "1552307_a_at",
         "1.7186838093084982",
         "0.0",
         "1.79683877723159",
         "0.0"
        ],
        [
         "47",
         "1552309_a_at",
         "1.841603046710233",
         "1.4215819245296628",
         "-0.8551213288768728",
         "0.0"
        ],
        [
         "48",
         "1552310_at",
         "1.9174770353564063",
         "1.2771694074346684",
         "1.5666150990594767",
         "0.5485872557584907"
        ],
        [
         "51",
         "1552314_a_at",
         "1.4311125410289172",
         "0.0",
         "1.033526476244984",
         "0.932253010274788"
        ],
        [
         "52",
         "1552315_at",
         "1.3299461953490015",
         "1.731160509578113",
         "-0.4803268521444507",
         "0.0"
        ],
        [
         "53",
         "1552316_a_at",
         "-0.727768730626171",
         "0.8233909224538383",
         "0.0",
         "0.0"
        ],
        [
         "55",
         "1552319_a_at",
         "-0.9886824200315424",
         "-0.9965137130210484",
         "-0.0556470209741804",
         "0.307040878988234"
        ],
        [
         "62",
         "1552327_at",
         "-0.520767962808127",
         "1.1144891721961705",
         "1.7584789571753543",
         "1.9890960167797536"
        ],
        [
         "63",
         "1552329_at",
         "0.5126288455490848",
         "-0.5778727255266546",
         "0.6164011725262246",
         "-1.3204979847058906"
        ],
        [
         "64",
         "1552330_at",
         "1.8497612949160105",
         "0.929565578475103",
         "0.0",
         "0.0"
        ],
        [
         "65",
         "1552332_at",
         "1.648379966051173",
         "0.6281563825227581",
         "0.6939465451028305",
         "0.1035425854653328"
        ],
        [
         "67",
         "1552335_at",
         "2.0506386366366853",
         "0.0",
         "0.0",
         "1.4624696999417708"
        ],
        [
         "69",
         "1552338_at",
         "0.3030102021276613",
         "1.0907595753536017",
         "-0.4831799720640883",
         "-0.6899527936766575"
        ],
        [
         "72",
         "1552344_s_at",
         "-0.0170170991664297",
         "0.938937405931011",
         "0.0",
         "-0.5899251147336809"
        ],
        [
         "74",
         "1552348_at",
         "0.7672825456626132",
         "0.2782881198882671",
         "-1.0309564643026372",
         "0.2187066471174756"
        ],
        [
         "75",
         "1552349_a_at",
         "1.139281352521461",
         "0.0175021496737663",
         "-0.4459247228292984",
         "-0.254785509567969"
        ],
        [
         "76",
         "1552354_at",
         "-0.7309132292691479",
         "0.1317691255845599",
         "-0.487522373472927",
         "-0.2963009869250604"
        ],
        [
         "78",
         "1552359_at",
         "1.1910942162310314",
         "0.4906391595576931",
         "0.0",
         "0.2371699121176848"
        ],
        [
         "80",
         "1552362_a_at",
         "-0.1994509423928266",
         "0.9826574698419908",
         "2.03496844372987",
         "-1.3325323712151538"
        ],
        [
         "84",
         "1552368_at",
         "1.5189015974272897",
         "0.1520749834349227",
         "0.8627718782263379",
         "0.2471344294316507"
        ],
        [
         "86",
         "1552372_at",
         "-0.3556400920207989",
         "0.2048447224105234",
         "0.021669365715661",
         "-1.594276350969877"
        ],
        [
         "87",
         "1552373_s_at",
         "1.331197053740778",
         "-0.6235948675467193",
         "-0.6973727367746883",
         "-1.4216139858890564"
        ],
        [
         "88",
         "1552375_at",
         "1.1403708330446156",
         "0.0",
         "0.0",
         "1.737277518691157"
        ],
        [
         "89",
         "1552377_s_at",
         "1.39879643595495",
         "1.4335817343645452",
         "0.3347604241229918",
         "1.8260032932082009"
        ],
        [
         "91",
         "1552379_at",
         "-1.466678675616485",
         "-1.726080490016325",
         "-0.6864955142224833",
         "-1.0529962019823669"
        ],
        [
         "92",
         "1552381_at",
         "-0.4491935308860243",
         "-1.2424814156978026",
         "0.0",
         "0.0"
        ],
        [
         "94",
         "1552384_a_at",
         "-1.5782635834466567",
         "-1.1237982723855255",
         "-1.2721438886479302",
         "0.0"
        ],
        [
         "99",
         "1552391_at",
         "-2.112265385762746",
         "0.0",
         "-1.042548615133177",
         "-1.9766034503396743"
        ],
        [
         "100",
         "1552393_at",
         "-1.7583075211894836",
         "-1.5500130185280978",
         "-1.388594464859506",
         "-1.7068788615889616"
        ],
        [
         "102",
         "1552395_at",
         "0.6790075464039287",
         "0.7725761264237054",
         "0.1725390448234819",
         "0.8590912123510379"
        ]
       ],
       "shape": {
        "columns": 5,
        "rows": 44588
       }
      },
      "text/html": [
       "<div>\n",
       "<style scoped>\n",
       "    .dataframe tbody tr th:only-of-type {\n",
       "        vertical-align: middle;\n",
       "    }\n",
       "\n",
       "    .dataframe tbody tr th {\n",
       "        vertical-align: top;\n",
       "    }\n",
       "\n",
       "    .dataframe thead th {\n",
       "        text-align: right;\n",
       "    }\n",
       "</style>\n",
       "<table border=\"1\" class=\"dataframe\">\n",
       "  <thead>\n",
       "    <tr style=\"text-align: right;\">\n",
       "      <th></th>\n",
       "      <th>Gene</th>\n",
       "      <th>Statistics Ependymoma</th>\n",
       "      <th>Statistics Glioblastoma</th>\n",
       "      <th>Statistics Medulloblastoma</th>\n",
       "      <th>Statistics Pilocytic Astrocytoma</th>\n",
       "    </tr>\n",
       "  </thead>\n",
       "  <tbody>\n",
       "    <tr>\n",
       "      <th>3</th>\n",
       "      <td>121_at</td>\n",
       "      <td>0.871461</td>\n",
       "      <td>1.047483</td>\n",
       "      <td>-0.596744</td>\n",
       "      <td>1.287618</td>\n",
       "    </tr>\n",
       "    <tr>\n",
       "      <th>10</th>\n",
       "      <td>1438_at</td>\n",
       "      <td>-0.773456</td>\n",
       "      <td>0.000000</td>\n",
       "      <td>-2.039421</td>\n",
       "      <td>-0.766567</td>\n",
       "    </tr>\n",
       "    <tr>\n",
       "      <th>12</th>\n",
       "      <td>1494_f_at</td>\n",
       "      <td>-1.961819</td>\n",
       "      <td>-0.748627</td>\n",
       "      <td>-1.740753</td>\n",
       "      <td>1.307275</td>\n",
       "    </tr>\n",
       "    <tr>\n",
       "      <th>15</th>\n",
       "      <td>1552258_at</td>\n",
       "      <td>0.686081</td>\n",
       "      <td>0.000000</td>\n",
       "      <td>0.883097</td>\n",
       "      <td>0.000000</td>\n",
       "    </tr>\n",
       "    <tr>\n",
       "      <th>16</th>\n",
       "      <td>1552261_at</td>\n",
       "      <td>-0.276536</td>\n",
       "      <td>-0.432346</td>\n",
       "      <td>-0.673175</td>\n",
       "      <td>-0.322991</td>\n",
       "    </tr>\n",
       "    <tr>\n",
       "      <th>...</th>\n",
       "      <td>...</td>\n",
       "      <td>...</td>\n",
       "      <td>...</td>\n",
       "      <td>...</td>\n",
       "      <td>...</td>\n",
       "    </tr>\n",
       "    <tr>\n",
       "      <th>54551</th>\n",
       "      <td>0</td>\n",
       "      <td>0.000000</td>\n",
       "      <td>0.000000</td>\n",
       "      <td>0.000000</td>\n",
       "      <td>0.612752</td>\n",
       "    </tr>\n",
       "    <tr>\n",
       "      <th>54578</th>\n",
       "      <td>0</td>\n",
       "      <td>0.000000</td>\n",
       "      <td>0.000000</td>\n",
       "      <td>0.000000</td>\n",
       "      <td>0.042992</td>\n",
       "    </tr>\n",
       "    <tr>\n",
       "      <th>54620</th>\n",
       "      <td>0</td>\n",
       "      <td>0.000000</td>\n",
       "      <td>0.000000</td>\n",
       "      <td>0.000000</td>\n",
       "      <td>-2.002087</td>\n",
       "    </tr>\n",
       "    <tr>\n",
       "      <th>54621</th>\n",
       "      <td>0</td>\n",
       "      <td>0.000000</td>\n",
       "      <td>0.000000</td>\n",
       "      <td>0.000000</td>\n",
       "      <td>-1.701551</td>\n",
       "    </tr>\n",
       "    <tr>\n",
       "      <th>54628</th>\n",
       "      <td>0</td>\n",
       "      <td>0.000000</td>\n",
       "      <td>0.000000</td>\n",
       "      <td>0.000000</td>\n",
       "      <td>-1.915699</td>\n",
       "    </tr>\n",
       "  </tbody>\n",
       "</table>\n",
       "<p>44588 rows × 5 columns</p>\n",
       "</div>"
      ],
      "text/plain": [
       "             Gene  Statistics Ependymoma  Statistics Glioblastoma  \\\n",
       "3          121_at               0.871461                 1.047483   \n",
       "10        1438_at              -0.773456                 0.000000   \n",
       "12      1494_f_at              -1.961819                -0.748627   \n",
       "15     1552258_at               0.686081                 0.000000   \n",
       "16     1552261_at              -0.276536                -0.432346   \n",
       "...           ...                    ...                      ...   \n",
       "54551           0               0.000000                 0.000000   \n",
       "54578           0               0.000000                 0.000000   \n",
       "54620           0               0.000000                 0.000000   \n",
       "54621           0               0.000000                 0.000000   \n",
       "54628           0               0.000000                 0.000000   \n",
       "\n",
       "       Statistics Medulloblastoma  Statistics Pilocytic Astrocytoma  \n",
       "3                       -0.596744                          1.287618  \n",
       "10                      -2.039421                         -0.766567  \n",
       "12                      -1.740753                          1.307275  \n",
       "15                       0.883097                          0.000000  \n",
       "16                      -0.673175                         -0.322991  \n",
       "...                           ...                               ...  \n",
       "54551                    0.000000                          0.612752  \n",
       "54578                    0.000000                          0.042992  \n",
       "54620                    0.000000                         -2.002087  \n",
       "54621                    0.000000                         -1.701551  \n",
       "54628                    0.000000                         -1.915699  \n",
       "\n",
       "[44588 rows x 5 columns]"
      ]
     },
     "execution_count": 181,
     "metadata": {},
     "output_type": "execute_result"
    }
   ],
   "source": [
    "data = data.fillna(0)\n",
    "data"
   ]
  },
  {
   "cell_type": "markdown",
   "metadata": {},
   "source": [
    "## Generating Heat Maps\n",
    "In order to visualize the differential gene expression, we will use a heat map. Heat maps are generally used to visualize which genes are highly expressed and which ones are lowly expressed.\n",
    "\n",
    "Since there are so many genes we will only take a subset of genes from this dataset. This is also to make the heat map easier to view; if we had ~54,000 genes then the heat map would look very squished. So let's view the first 50 genes to visualize.\n",
    "\n",
    "Because this method won't garentee the top 10 in each cancer group, we will create bar graphs for each group to show the genes specifically with the biggest positive difference in gene expression compared to healthy tissue. For this bar graph we will show top 500 genes with the biggest difference (positive or negative)."
   ]
  },
  {
   "cell_type": "code",
   "execution_count": 182,
   "metadata": {},
   "outputs": [],
   "source": [
    "# Lets get the first 50 genes of each group\n",
    "data = data[:50][:]\n",
    "\n",
    "data.set_index(\"Gene\", inplace=True)"
   ]
  },
  {
   "cell_type": "code",
   "execution_count": 183,
   "metadata": {},
   "outputs": [
    {
     "data": {
      "application/vnd.microsoft.datawrangler.viewer.v0+json": {
       "columns": [
        {
         "name": "Gene",
         "rawType": "object",
         "type": "string"
        },
        {
         "name": "Statistics Ependymoma",
         "rawType": "float64",
         "type": "float"
        },
        {
         "name": "Statistics Glioblastoma",
         "rawType": "float64",
         "type": "float"
        },
        {
         "name": "Statistics Medulloblastoma",
         "rawType": "float64",
         "type": "float"
        },
        {
         "name": "Statistics Pilocytic Astrocytoma",
         "rawType": "float64",
         "type": "float"
        }
       ],
       "ref": "1cd9c0e5-6f08-4370-84c5-f7e91ccad8f0",
       "rows": [
        [
         "121_at",
         "0.8714609204541289",
         "1.047483171849502",
         "-0.596744068820451",
         "1.2876179100983822"
        ],
        [
         "1438_at",
         "-0.773455861311552",
         "0.0",
         "-2.039421223706055",
         "-0.7665668864723854"
        ],
        [
         "1494_f_at",
         "-1.9618190036574368",
         "-0.7486272931536818",
         "-1.740753297471402",
         "1.3072745543439857"
        ],
        [
         "1552258_at",
         "0.6860808852756444",
         "0.0",
         "0.8830966945465757",
         "0.0"
        ],
        [
         "1552261_at",
         "-0.2765357811324795",
         "-0.432345710787287",
         "-0.6731751606114105",
         "-0.3229910059383726"
        ],
        [
         "1552263_at",
         "1.1493631204992898",
         "0.0",
         "1.2867588863009862",
         "0.0"
        ],
        [
         "1552264_a_at",
         "1.0348622311341775",
         "0.3636703420534294",
         "-0.2313175860428477",
         "0.0264235179147117"
        ],
        [
         "1552271_at",
         "0.9912986559017872",
         "0.0",
         "0.0",
         "0.6680190775691149"
        ],
        [
         "1552272_a_at",
         "1.93445820311835",
         "0.0",
         "0.0",
         "0.0"
        ],
        [
         "1552276_a_at",
         "-0.3072307820078748",
         "-1.1378692115956794",
         "-1.084691291390907",
         "-0.5027550660366921"
        ],
        [
         "1552278_a_at",
         "1.6530579615381118",
         "0.146501551099819",
         "0.3979757466656743",
         "0.9902401363415874"
        ],
        [
         "1552280_at",
         "1.3515173274070251",
         "1.3908877356268747",
         "0.3465610119988022",
         "1.086105390800825"
        ],
        [
         "1552281_at",
         "1.0848846510683383",
         "0.0",
         "1.7842854379607749",
         "0.0"
        ],
        [
         "1552283_s_at",
         "-1.5520947985931024",
         "0.0",
         "0.0",
         "0.0"
        ],
        [
         "1552286_at",
         "1.2733994382952816",
         "0.0",
         "0.2211866387192591",
         "-0.1264323965714119"
        ],
        [
         "1552287_s_at",
         "1.3669722122764365",
         "1.7979224758375345",
         "0.0",
         "0.8062164336037294"
        ],
        [
         "1552288_at",
         "-0.1129917623720171",
         "-0.2520073920591421",
         "1.3484480544687238",
         "-1.0758790204039792"
        ],
        [
         "1552289_a_at",
         "1.1665877153924369",
         "1.165100882724002",
         "0.0",
         "-0.0556368817384159"
        ],
        [
         "1552291_at",
         "0.771981724737433",
         "0.5383903185105345",
         "-1.9910099703045432",
         "0.5557765186542817"
        ],
        [
         "1552303_a_at",
         "1.4548990543042128",
         "1.5260497531335415",
         "-1.1133213928974028",
         "0.0"
        ],
        [
         "1552307_a_at",
         "1.7186838093084982",
         "0.0",
         "1.79683877723159",
         "0.0"
        ],
        [
         "1552309_a_at",
         "1.841603046710233",
         "1.4215819245296628",
         "-0.8551213288768728",
         "0.0"
        ],
        [
         "1552310_at",
         "1.9174770353564063",
         "1.2771694074346684",
         "1.5666150990594767",
         "0.5485872557584907"
        ],
        [
         "1552314_a_at",
         "1.4311125410289172",
         "0.0",
         "1.033526476244984",
         "0.932253010274788"
        ],
        [
         "1552315_at",
         "1.3299461953490015",
         "1.731160509578113",
         "-0.4803268521444507",
         "0.0"
        ],
        [
         "1552316_a_at",
         "-0.727768730626171",
         "0.8233909224538383",
         "0.0",
         "0.0"
        ],
        [
         "1552319_a_at",
         "-0.9886824200315424",
         "-0.9965137130210484",
         "-0.0556470209741804",
         "0.307040878988234"
        ],
        [
         "1552327_at",
         "-0.520767962808127",
         "1.1144891721961705",
         "1.7584789571753543",
         "1.9890960167797536"
        ],
        [
         "1552329_at",
         "0.5126288455490848",
         "-0.5778727255266546",
         "0.6164011725262246",
         "-1.3204979847058906"
        ],
        [
         "1552330_at",
         "1.8497612949160105",
         "0.929565578475103",
         "0.0",
         "0.0"
        ],
        [
         "1552332_at",
         "1.648379966051173",
         "0.6281563825227581",
         "0.6939465451028305",
         "0.1035425854653328"
        ],
        [
         "1552335_at",
         "2.0506386366366853",
         "0.0",
         "0.0",
         "1.4624696999417708"
        ],
        [
         "1552338_at",
         "0.3030102021276613",
         "1.0907595753536017",
         "-0.4831799720640883",
         "-0.6899527936766575"
        ],
        [
         "1552344_s_at",
         "-0.0170170991664297",
         "0.938937405931011",
         "0.0",
         "-0.5899251147336809"
        ],
        [
         "1552348_at",
         "0.7672825456626132",
         "0.2782881198882671",
         "-1.0309564643026372",
         "0.2187066471174756"
        ],
        [
         "1552349_a_at",
         "1.139281352521461",
         "0.0175021496737663",
         "-0.4459247228292984",
         "-0.254785509567969"
        ],
        [
         "1552354_at",
         "-0.7309132292691479",
         "0.1317691255845599",
         "-0.487522373472927",
         "-0.2963009869250604"
        ],
        [
         "1552359_at",
         "1.1910942162310314",
         "0.4906391595576931",
         "0.0",
         "0.2371699121176848"
        ],
        [
         "1552362_a_at",
         "-0.1994509423928266",
         "0.9826574698419908",
         "2.03496844372987",
         "-1.3325323712151538"
        ],
        [
         "1552368_at",
         "1.5189015974272897",
         "0.1520749834349227",
         "0.8627718782263379",
         "0.2471344294316507"
        ],
        [
         "1552372_at",
         "-0.3556400920207989",
         "0.2048447224105234",
         "0.021669365715661",
         "-1.594276350969877"
        ],
        [
         "1552373_s_at",
         "1.331197053740778",
         "-0.6235948675467193",
         "-0.6973727367746883",
         "-1.4216139858890564"
        ],
        [
         "1552375_at",
         "1.1403708330446156",
         "0.0",
         "0.0",
         "1.737277518691157"
        ],
        [
         "1552377_s_at",
         "1.39879643595495",
         "1.4335817343645452",
         "0.3347604241229918",
         "1.8260032932082009"
        ],
        [
         "1552379_at",
         "-1.466678675616485",
         "-1.726080490016325",
         "-0.6864955142224833",
         "-1.0529962019823669"
        ],
        [
         "1552381_at",
         "-0.4491935308860243",
         "-1.2424814156978026",
         "0.0",
         "0.0"
        ],
        [
         "1552384_a_at",
         "-1.5782635834466567",
         "-1.1237982723855255",
         "-1.2721438886479302",
         "0.0"
        ],
        [
         "1552391_at",
         "-2.112265385762746",
         "0.0",
         "-1.042548615133177",
         "-1.9766034503396743"
        ],
        [
         "1552393_at",
         "-1.7583075211894836",
         "-1.5500130185280978",
         "-1.388594464859506",
         "-1.7068788615889616"
        ],
        [
         "1552395_at",
         "0.6790075464039287",
         "0.7725761264237054",
         "0.1725390448234819",
         "0.8590912123510379"
        ]
       ],
       "shape": {
        "columns": 4,
        "rows": 50
       }
      },
      "text/html": [
       "<div>\n",
       "<style scoped>\n",
       "    .dataframe tbody tr th:only-of-type {\n",
       "        vertical-align: middle;\n",
       "    }\n",
       "\n",
       "    .dataframe tbody tr th {\n",
       "        vertical-align: top;\n",
       "    }\n",
       "\n",
       "    .dataframe thead th {\n",
       "        text-align: right;\n",
       "    }\n",
       "</style>\n",
       "<table border=\"1\" class=\"dataframe\">\n",
       "  <thead>\n",
       "    <tr style=\"text-align: right;\">\n",
       "      <th></th>\n",
       "      <th>Statistics Ependymoma</th>\n",
       "      <th>Statistics Glioblastoma</th>\n",
       "      <th>Statistics Medulloblastoma</th>\n",
       "      <th>Statistics Pilocytic Astrocytoma</th>\n",
       "    </tr>\n",
       "    <tr>\n",
       "      <th>Gene</th>\n",
       "      <th></th>\n",
       "      <th></th>\n",
       "      <th></th>\n",
       "      <th></th>\n",
       "    </tr>\n",
       "  </thead>\n",
       "  <tbody>\n",
       "    <tr>\n",
       "      <th>121_at</th>\n",
       "      <td>0.871461</td>\n",
       "      <td>1.047483</td>\n",
       "      <td>-0.596744</td>\n",
       "      <td>1.287618</td>\n",
       "    </tr>\n",
       "    <tr>\n",
       "      <th>1438_at</th>\n",
       "      <td>-0.773456</td>\n",
       "      <td>0.000000</td>\n",
       "      <td>-2.039421</td>\n",
       "      <td>-0.766567</td>\n",
       "    </tr>\n",
       "    <tr>\n",
       "      <th>1494_f_at</th>\n",
       "      <td>-1.961819</td>\n",
       "      <td>-0.748627</td>\n",
       "      <td>-1.740753</td>\n",
       "      <td>1.307275</td>\n",
       "    </tr>\n",
       "    <tr>\n",
       "      <th>1552258_at</th>\n",
       "      <td>0.686081</td>\n",
       "      <td>0.000000</td>\n",
       "      <td>0.883097</td>\n",
       "      <td>0.000000</td>\n",
       "    </tr>\n",
       "    <tr>\n",
       "      <th>1552261_at</th>\n",
       "      <td>-0.276536</td>\n",
       "      <td>-0.432346</td>\n",
       "      <td>-0.673175</td>\n",
       "      <td>-0.322991</td>\n",
       "    </tr>\n",
       "    <tr>\n",
       "      <th>1552263_at</th>\n",
       "      <td>1.149363</td>\n",
       "      <td>0.000000</td>\n",
       "      <td>1.286759</td>\n",
       "      <td>0.000000</td>\n",
       "    </tr>\n",
       "    <tr>\n",
       "      <th>1552264_a_at</th>\n",
       "      <td>1.034862</td>\n",
       "      <td>0.363670</td>\n",
       "      <td>-0.231318</td>\n",
       "      <td>0.026424</td>\n",
       "    </tr>\n",
       "    <tr>\n",
       "      <th>1552271_at</th>\n",
       "      <td>0.991299</td>\n",
       "      <td>0.000000</td>\n",
       "      <td>0.000000</td>\n",
       "      <td>0.668019</td>\n",
       "    </tr>\n",
       "    <tr>\n",
       "      <th>1552272_a_at</th>\n",
       "      <td>1.934458</td>\n",
       "      <td>0.000000</td>\n",
       "      <td>0.000000</td>\n",
       "      <td>0.000000</td>\n",
       "    </tr>\n",
       "    <tr>\n",
       "      <th>1552276_a_at</th>\n",
       "      <td>-0.307231</td>\n",
       "      <td>-1.137869</td>\n",
       "      <td>-1.084691</td>\n",
       "      <td>-0.502755</td>\n",
       "    </tr>\n",
       "    <tr>\n",
       "      <th>1552278_a_at</th>\n",
       "      <td>1.653058</td>\n",
       "      <td>0.146502</td>\n",
       "      <td>0.397976</td>\n",
       "      <td>0.990240</td>\n",
       "    </tr>\n",
       "    <tr>\n",
       "      <th>1552280_at</th>\n",
       "      <td>1.351517</td>\n",
       "      <td>1.390888</td>\n",
       "      <td>0.346561</td>\n",
       "      <td>1.086105</td>\n",
       "    </tr>\n",
       "    <tr>\n",
       "      <th>1552281_at</th>\n",
       "      <td>1.084885</td>\n",
       "      <td>0.000000</td>\n",
       "      <td>1.784285</td>\n",
       "      <td>0.000000</td>\n",
       "    </tr>\n",
       "    <tr>\n",
       "      <th>1552283_s_at</th>\n",
       "      <td>-1.552095</td>\n",
       "      <td>0.000000</td>\n",
       "      <td>0.000000</td>\n",
       "      <td>0.000000</td>\n",
       "    </tr>\n",
       "    <tr>\n",
       "      <th>1552286_at</th>\n",
       "      <td>1.273399</td>\n",
       "      <td>0.000000</td>\n",
       "      <td>0.221187</td>\n",
       "      <td>-0.126432</td>\n",
       "    </tr>\n",
       "    <tr>\n",
       "      <th>1552287_s_at</th>\n",
       "      <td>1.366972</td>\n",
       "      <td>1.797922</td>\n",
       "      <td>0.000000</td>\n",
       "      <td>0.806216</td>\n",
       "    </tr>\n",
       "    <tr>\n",
       "      <th>1552288_at</th>\n",
       "      <td>-0.112992</td>\n",
       "      <td>-0.252007</td>\n",
       "      <td>1.348448</td>\n",
       "      <td>-1.075879</td>\n",
       "    </tr>\n",
       "    <tr>\n",
       "      <th>1552289_a_at</th>\n",
       "      <td>1.166588</td>\n",
       "      <td>1.165101</td>\n",
       "      <td>0.000000</td>\n",
       "      <td>-0.055637</td>\n",
       "    </tr>\n",
       "    <tr>\n",
       "      <th>1552291_at</th>\n",
       "      <td>0.771982</td>\n",
       "      <td>0.538390</td>\n",
       "      <td>-1.991010</td>\n",
       "      <td>0.555777</td>\n",
       "    </tr>\n",
       "    <tr>\n",
       "      <th>1552303_a_at</th>\n",
       "      <td>1.454899</td>\n",
       "      <td>1.526050</td>\n",
       "      <td>-1.113321</td>\n",
       "      <td>0.000000</td>\n",
       "    </tr>\n",
       "    <tr>\n",
       "      <th>1552307_a_at</th>\n",
       "      <td>1.718684</td>\n",
       "      <td>0.000000</td>\n",
       "      <td>1.796839</td>\n",
       "      <td>0.000000</td>\n",
       "    </tr>\n",
       "    <tr>\n",
       "      <th>1552309_a_at</th>\n",
       "      <td>1.841603</td>\n",
       "      <td>1.421582</td>\n",
       "      <td>-0.855121</td>\n",
       "      <td>0.000000</td>\n",
       "    </tr>\n",
       "    <tr>\n",
       "      <th>1552310_at</th>\n",
       "      <td>1.917477</td>\n",
       "      <td>1.277169</td>\n",
       "      <td>1.566615</td>\n",
       "      <td>0.548587</td>\n",
       "    </tr>\n",
       "    <tr>\n",
       "      <th>1552314_a_at</th>\n",
       "      <td>1.431113</td>\n",
       "      <td>0.000000</td>\n",
       "      <td>1.033526</td>\n",
       "      <td>0.932253</td>\n",
       "    </tr>\n",
       "    <tr>\n",
       "      <th>1552315_at</th>\n",
       "      <td>1.329946</td>\n",
       "      <td>1.731161</td>\n",
       "      <td>-0.480327</td>\n",
       "      <td>0.000000</td>\n",
       "    </tr>\n",
       "    <tr>\n",
       "      <th>1552316_a_at</th>\n",
       "      <td>-0.727769</td>\n",
       "      <td>0.823391</td>\n",
       "      <td>0.000000</td>\n",
       "      <td>0.000000</td>\n",
       "    </tr>\n",
       "    <tr>\n",
       "      <th>1552319_a_at</th>\n",
       "      <td>-0.988682</td>\n",
       "      <td>-0.996514</td>\n",
       "      <td>-0.055647</td>\n",
       "      <td>0.307041</td>\n",
       "    </tr>\n",
       "    <tr>\n",
       "      <th>1552327_at</th>\n",
       "      <td>-0.520768</td>\n",
       "      <td>1.114489</td>\n",
       "      <td>1.758479</td>\n",
       "      <td>1.989096</td>\n",
       "    </tr>\n",
       "    <tr>\n",
       "      <th>1552329_at</th>\n",
       "      <td>0.512629</td>\n",
       "      <td>-0.577873</td>\n",
       "      <td>0.616401</td>\n",
       "      <td>-1.320498</td>\n",
       "    </tr>\n",
       "    <tr>\n",
       "      <th>1552330_at</th>\n",
       "      <td>1.849761</td>\n",
       "      <td>0.929566</td>\n",
       "      <td>0.000000</td>\n",
       "      <td>0.000000</td>\n",
       "    </tr>\n",
       "    <tr>\n",
       "      <th>1552332_at</th>\n",
       "      <td>1.648380</td>\n",
       "      <td>0.628156</td>\n",
       "      <td>0.693947</td>\n",
       "      <td>0.103543</td>\n",
       "    </tr>\n",
       "    <tr>\n",
       "      <th>1552335_at</th>\n",
       "      <td>2.050639</td>\n",
       "      <td>0.000000</td>\n",
       "      <td>0.000000</td>\n",
       "      <td>1.462470</td>\n",
       "    </tr>\n",
       "    <tr>\n",
       "      <th>1552338_at</th>\n",
       "      <td>0.303010</td>\n",
       "      <td>1.090760</td>\n",
       "      <td>-0.483180</td>\n",
       "      <td>-0.689953</td>\n",
       "    </tr>\n",
       "    <tr>\n",
       "      <th>1552344_s_at</th>\n",
       "      <td>-0.017017</td>\n",
       "      <td>0.938937</td>\n",
       "      <td>0.000000</td>\n",
       "      <td>-0.589925</td>\n",
       "    </tr>\n",
       "    <tr>\n",
       "      <th>1552348_at</th>\n",
       "      <td>0.767283</td>\n",
       "      <td>0.278288</td>\n",
       "      <td>-1.030956</td>\n",
       "      <td>0.218707</td>\n",
       "    </tr>\n",
       "    <tr>\n",
       "      <th>1552349_a_at</th>\n",
       "      <td>1.139281</td>\n",
       "      <td>0.017502</td>\n",
       "      <td>-0.445925</td>\n",
       "      <td>-0.254786</td>\n",
       "    </tr>\n",
       "    <tr>\n",
       "      <th>1552354_at</th>\n",
       "      <td>-0.730913</td>\n",
       "      <td>0.131769</td>\n",
       "      <td>-0.487522</td>\n",
       "      <td>-0.296301</td>\n",
       "    </tr>\n",
       "    <tr>\n",
       "      <th>1552359_at</th>\n",
       "      <td>1.191094</td>\n",
       "      <td>0.490639</td>\n",
       "      <td>0.000000</td>\n",
       "      <td>0.237170</td>\n",
       "    </tr>\n",
       "    <tr>\n",
       "      <th>1552362_a_at</th>\n",
       "      <td>-0.199451</td>\n",
       "      <td>0.982657</td>\n",
       "      <td>2.034968</td>\n",
       "      <td>-1.332532</td>\n",
       "    </tr>\n",
       "    <tr>\n",
       "      <th>1552368_at</th>\n",
       "      <td>1.518902</td>\n",
       "      <td>0.152075</td>\n",
       "      <td>0.862772</td>\n",
       "      <td>0.247134</td>\n",
       "    </tr>\n",
       "    <tr>\n",
       "      <th>1552372_at</th>\n",
       "      <td>-0.355640</td>\n",
       "      <td>0.204845</td>\n",
       "      <td>0.021669</td>\n",
       "      <td>-1.594276</td>\n",
       "    </tr>\n",
       "    <tr>\n",
       "      <th>1552373_s_at</th>\n",
       "      <td>1.331197</td>\n",
       "      <td>-0.623595</td>\n",
       "      <td>-0.697373</td>\n",
       "      <td>-1.421614</td>\n",
       "    </tr>\n",
       "    <tr>\n",
       "      <th>1552375_at</th>\n",
       "      <td>1.140371</td>\n",
       "      <td>0.000000</td>\n",
       "      <td>0.000000</td>\n",
       "      <td>1.737278</td>\n",
       "    </tr>\n",
       "    <tr>\n",
       "      <th>1552377_s_at</th>\n",
       "      <td>1.398796</td>\n",
       "      <td>1.433582</td>\n",
       "      <td>0.334760</td>\n",
       "      <td>1.826003</td>\n",
       "    </tr>\n",
       "    <tr>\n",
       "      <th>1552379_at</th>\n",
       "      <td>-1.466679</td>\n",
       "      <td>-1.726080</td>\n",
       "      <td>-0.686496</td>\n",
       "      <td>-1.052996</td>\n",
       "    </tr>\n",
       "    <tr>\n",
       "      <th>1552381_at</th>\n",
       "      <td>-0.449194</td>\n",
       "      <td>-1.242481</td>\n",
       "      <td>0.000000</td>\n",
       "      <td>0.000000</td>\n",
       "    </tr>\n",
       "    <tr>\n",
       "      <th>1552384_a_at</th>\n",
       "      <td>-1.578264</td>\n",
       "      <td>-1.123798</td>\n",
       "      <td>-1.272144</td>\n",
       "      <td>0.000000</td>\n",
       "    </tr>\n",
       "    <tr>\n",
       "      <th>1552391_at</th>\n",
       "      <td>-2.112265</td>\n",
       "      <td>0.000000</td>\n",
       "      <td>-1.042549</td>\n",
       "      <td>-1.976603</td>\n",
       "    </tr>\n",
       "    <tr>\n",
       "      <th>1552393_at</th>\n",
       "      <td>-1.758308</td>\n",
       "      <td>-1.550013</td>\n",
       "      <td>-1.388594</td>\n",
       "      <td>-1.706879</td>\n",
       "    </tr>\n",
       "    <tr>\n",
       "      <th>1552395_at</th>\n",
       "      <td>0.679008</td>\n",
       "      <td>0.772576</td>\n",
       "      <td>0.172539</td>\n",
       "      <td>0.859091</td>\n",
       "    </tr>\n",
       "  </tbody>\n",
       "</table>\n",
       "</div>"
      ],
      "text/plain": [
       "              Statistics Ependymoma  Statistics Glioblastoma  \\\n",
       "Gene                                                           \n",
       "121_at                     0.871461                 1.047483   \n",
       "1438_at                   -0.773456                 0.000000   \n",
       "1494_f_at                 -1.961819                -0.748627   \n",
       "1552258_at                 0.686081                 0.000000   \n",
       "1552261_at                -0.276536                -0.432346   \n",
       "1552263_at                 1.149363                 0.000000   \n",
       "1552264_a_at               1.034862                 0.363670   \n",
       "1552271_at                 0.991299                 0.000000   \n",
       "1552272_a_at               1.934458                 0.000000   \n",
       "1552276_a_at              -0.307231                -1.137869   \n",
       "1552278_a_at               1.653058                 0.146502   \n",
       "1552280_at                 1.351517                 1.390888   \n",
       "1552281_at                 1.084885                 0.000000   \n",
       "1552283_s_at              -1.552095                 0.000000   \n",
       "1552286_at                 1.273399                 0.000000   \n",
       "1552287_s_at               1.366972                 1.797922   \n",
       "1552288_at                -0.112992                -0.252007   \n",
       "1552289_a_at               1.166588                 1.165101   \n",
       "1552291_at                 0.771982                 0.538390   \n",
       "1552303_a_at               1.454899                 1.526050   \n",
       "1552307_a_at               1.718684                 0.000000   \n",
       "1552309_a_at               1.841603                 1.421582   \n",
       "1552310_at                 1.917477                 1.277169   \n",
       "1552314_a_at               1.431113                 0.000000   \n",
       "1552315_at                 1.329946                 1.731161   \n",
       "1552316_a_at              -0.727769                 0.823391   \n",
       "1552319_a_at              -0.988682                -0.996514   \n",
       "1552327_at                -0.520768                 1.114489   \n",
       "1552329_at                 0.512629                -0.577873   \n",
       "1552330_at                 1.849761                 0.929566   \n",
       "1552332_at                 1.648380                 0.628156   \n",
       "1552335_at                 2.050639                 0.000000   \n",
       "1552338_at                 0.303010                 1.090760   \n",
       "1552344_s_at              -0.017017                 0.938937   \n",
       "1552348_at                 0.767283                 0.278288   \n",
       "1552349_a_at               1.139281                 0.017502   \n",
       "1552354_at                -0.730913                 0.131769   \n",
       "1552359_at                 1.191094                 0.490639   \n",
       "1552362_a_at              -0.199451                 0.982657   \n",
       "1552368_at                 1.518902                 0.152075   \n",
       "1552372_at                -0.355640                 0.204845   \n",
       "1552373_s_at               1.331197                -0.623595   \n",
       "1552375_at                 1.140371                 0.000000   \n",
       "1552377_s_at               1.398796                 1.433582   \n",
       "1552379_at                -1.466679                -1.726080   \n",
       "1552381_at                -0.449194                -1.242481   \n",
       "1552384_a_at              -1.578264                -1.123798   \n",
       "1552391_at                -2.112265                 0.000000   \n",
       "1552393_at                -1.758308                -1.550013   \n",
       "1552395_at                 0.679008                 0.772576   \n",
       "\n",
       "              Statistics Medulloblastoma  Statistics Pilocytic Astrocytoma  \n",
       "Gene                                                                        \n",
       "121_at                         -0.596744                          1.287618  \n",
       "1438_at                        -2.039421                         -0.766567  \n",
       "1494_f_at                      -1.740753                          1.307275  \n",
       "1552258_at                      0.883097                          0.000000  \n",
       "1552261_at                     -0.673175                         -0.322991  \n",
       "1552263_at                      1.286759                          0.000000  \n",
       "1552264_a_at                   -0.231318                          0.026424  \n",
       "1552271_at                      0.000000                          0.668019  \n",
       "1552272_a_at                    0.000000                          0.000000  \n",
       "1552276_a_at                   -1.084691                         -0.502755  \n",
       "1552278_a_at                    0.397976                          0.990240  \n",
       "1552280_at                      0.346561                          1.086105  \n",
       "1552281_at                      1.784285                          0.000000  \n",
       "1552283_s_at                    0.000000                          0.000000  \n",
       "1552286_at                      0.221187                         -0.126432  \n",
       "1552287_s_at                    0.000000                          0.806216  \n",
       "1552288_at                      1.348448                         -1.075879  \n",
       "1552289_a_at                    0.000000                         -0.055637  \n",
       "1552291_at                     -1.991010                          0.555777  \n",
       "1552303_a_at                   -1.113321                          0.000000  \n",
       "1552307_a_at                    1.796839                          0.000000  \n",
       "1552309_a_at                   -0.855121                          0.000000  \n",
       "1552310_at                      1.566615                          0.548587  \n",
       "1552314_a_at                    1.033526                          0.932253  \n",
       "1552315_at                     -0.480327                          0.000000  \n",
       "1552316_a_at                    0.000000                          0.000000  \n",
       "1552319_a_at                   -0.055647                          0.307041  \n",
       "1552327_at                      1.758479                          1.989096  \n",
       "1552329_at                      0.616401                         -1.320498  \n",
       "1552330_at                      0.000000                          0.000000  \n",
       "1552332_at                      0.693947                          0.103543  \n",
       "1552335_at                      0.000000                          1.462470  \n",
       "1552338_at                     -0.483180                         -0.689953  \n",
       "1552344_s_at                    0.000000                         -0.589925  \n",
       "1552348_at                     -1.030956                          0.218707  \n",
       "1552349_a_at                   -0.445925                         -0.254786  \n",
       "1552354_at                     -0.487522                         -0.296301  \n",
       "1552359_at                      0.000000                          0.237170  \n",
       "1552362_a_at                    2.034968                         -1.332532  \n",
       "1552368_at                      0.862772                          0.247134  \n",
       "1552372_at                      0.021669                         -1.594276  \n",
       "1552373_s_at                   -0.697373                         -1.421614  \n",
       "1552375_at                      0.000000                          1.737278  \n",
       "1552377_s_at                    0.334760                          1.826003  \n",
       "1552379_at                     -0.686496                         -1.052996  \n",
       "1552381_at                      0.000000                          0.000000  \n",
       "1552384_a_at                   -1.272144                          0.000000  \n",
       "1552391_at                     -1.042549                         -1.976603  \n",
       "1552393_at                     -1.388594                         -1.706879  \n",
       "1552395_at                      0.172539                          0.859091  "
      ]
     },
     "execution_count": 183,
     "metadata": {},
     "output_type": "execute_result"
    }
   ],
   "source": [
    "# Let's check that we did the selection correctly\n",
    "data"
   ]
  },
  {
   "cell_type": "code",
   "execution_count": 184,
   "metadata": {},
   "outputs": [
    {
     "data": {
      "image/png": "[encoded data removed]",
      "text/plain": [
       "<Figure size 1400x1000 with 2 Axes>"
      ]
     },
     "metadata": {},
     "output_type": "display_data"
    }
   ],
   "source": [
    "import seaborn as sns\n",
    "import numpy as np\n",
    "import matplotlib.pyplot as plt\n",
    "\n",
    "\n",
    "plt.figure(figsize=(14, len(data) * 0.2))\n",
    "sns.heatmap(data, annot=False, cmap='viridis', fmt=\".2f\", linewidths=.5)\n",
    "\n",
    "plt.title(\"Heatmap of first 50 genes\")\n",
    "plt.savefig(\"Heatmap of first 50 genes.png\")\n",
    "plt.show()"
   ]
  }
 ],
 "metadata": {
  "kernelspec": {
   "display_name": "Python 3",
   "language": "python",
   "name": "python3"
  },
  "language_info": {
   "codemirror_mode": {
    "name": "ipython",
    "version": 3
   },
   "file_extension": ".py",
   "mimetype": "text/x-python",
   "name": "python",
   "nbconvert_exporter": "python",
   "pygments_lexer": "ipython3",
   "version": "3.12.1"
  }
 },
 "nbformat": 4,
 "nbformat_minor": 2
}
